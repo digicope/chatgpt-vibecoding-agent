{
 "cells": [
  {
   "cell_type": "markdown",
   "id": "1340316c-d46e-4faa-9b26-4be4e5a888f4",
   "metadata": {},
   "source": [
    "# GPT 고객 서비스 챗봇 만들기"
   ]
  },
  {
   "cell_type": "code",
   "execution_count": 1,
   "id": "567a494f-c435-4019-80e5-190783565a98",
   "metadata": {},
   "outputs": [],
   "source": [
    "# 터미널에서 실행시\n",
    "# python -m venv venv\n",
    "# source venv/bin/activate  # 윈도우는 venv\\Scripts\\activate\n",
    "# pip install -r requirements.txt\n",
    "# python app.py"
   ]
  },
  {
   "cell_type": "code",
   "execution_count": 1,
   "id": "3e846858-1d55-4ef6-aa7c-c318cb77b711",
   "metadata": {},
   "outputs": [],
   "source": [
    "from dotenv import load_dotenv\n",
    "import os\n",
    "\n",
    "# .env 파일의 내용 불러오기\n",
    "load_dotenv(\"C:/env/.env\")\n",
    "\n",
    "# 환경 변수 가져오기\n",
    "API_KEY = os.getenv(\"OPENAI_API_KEY\")\n",
    "\n",
    "from openai import OpenAI\n",
    "client = OpenAI(api_key=API_KEY)\n",
    "\n",
    "from flask import Flask ,jsonify, request,render_template\n",
    "app = Flask(__name__)"
   ]
  },
  {
   "cell_type": "code",
   "execution_count": 2,
   "id": "1035c461-3115-42be-b497-c97a2da30a5b",
   "metadata": {},
   "outputs": [
    {
     "name": "stdout",
     "output_type": "stream",
     "text": [
      " * Serving Flask app '__main__'\n",
      " * Debug mode: off\n"
     ]
    },
    {
     "name": "stderr",
     "output_type": "stream",
     "text": [
      "WARNING: This is a development server. Do not use it in a production deployment. Use a production WSGI server instead.\n",
      " * Running on http://127.0.0.1:5000\n",
      "Press CTRL+C to quit\n"
     ]
    }
   ],
   "source": [
    "@app.route('/')\n",
    "def index():\n",
    "    return render_template('index.html')\n",
    "\n",
    "@app.route('/get_response',methods=['POST'])\n",
    "def get_response():\n",
    "    user_message = request.json.get(\"message\")\n",
    "\n",
    "    # OpenAI API 호출\n",
    "    response = client.chat.completions.create(\n",
    "        model = \"gpt-4o-mini\",\n",
    "        messages = [  {\"role\": \"user\",  \"content\": user_message} ],\n",
    "        max_tokens = 300,\n",
    "        n = 1,\n",
    "        stop = None,\n",
    "        temperature = 0.7,\n",
    "    )\n",
    "\n",
    "    bot_response = response.choices[0].message.content\n",
    "    return jsonify({\"response\": bot_response})\n",
    "                           \n",
    "if __name__ == '__main__':\n",
    "    app.run(debug=False)"
   ]
  },
  {
   "cell_type": "markdown",
   "id": "316b700c-70f6-4c31-97c4-0d83af751c31",
   "metadata": {},
   "source": [
    "## 질문한 내용을 Context로 계속 유지하면서 질문하기 "
   ]
  },
  {
   "cell_type": "code",
   "execution_count": null,
   "id": "2cefb475-e14f-4f8c-8820-45fc28a2d6ee",
   "metadata": {},
   "outputs": [
    {
     "name": "stdout",
     "output_type": "stream",
     "text": [
      " * Serving Flask app '__main__'\n",
      " * Debug mode: off\n"
     ]
    },
    {
     "name": "stderr",
     "output_type": "stream",
     "text": [
      "WARNING: This is a development server. Do not use it in a production deployment. Use a production WSGI server instead.\n",
      " * Running on http://127.0.0.1:5000\n",
      "Press CTRL+C to quit\n",
      "127.0.0.1 - - [26/Sep/2025 11:43:58] \"GET / HTTP/1.1\" 200 -\n"
     ]
    },
    {
     "name": "stdout",
     "output_type": "stream",
     "text": [
      "[{'role': 'user', 'content': '하늘이 파란 이유는?'}]\n"
     ]
    },
    {
     "name": "stderr",
     "output_type": "stream",
     "text": [
      "127.0.0.1 - - [26/Sep/2025 11:44:11] \"POST /get_response HTTP/1.1\" 200 -\n"
     ]
    },
    {
     "name": "stdout",
     "output_type": "stream",
     "text": [
      "[{'role': 'user', 'content': '하늘이 파란 이유는?'}, {'role': 'user', 'content': '노란 이유는?'}]\n"
     ]
    },
    {
     "name": "stderr",
     "output_type": "stream",
     "text": [
      "127.0.0.1 - - [26/Sep/2025 11:44:21] \"POST /get_response HTTP/1.1\" 200 -\n"
     ]
    },
    {
     "name": "stdout",
     "output_type": "stream",
     "text": [
      "[{'role': 'user', 'content': '하늘이 파란 이유는?'}, {'role': 'user', 'content': '노란 이유는?'}, {'role': 'user', 'content': '빨간이유는?'}]\n"
     ]
    },
    {
     "name": "stderr",
     "output_type": "stream",
     "text": [
      "127.0.0.1 - - [26/Sep/2025 11:44:33] \"POST /get_response HTTP/1.1\" 200 -\n"
     ]
    },
    {
     "name": "stdout",
     "output_type": "stream",
     "text": [
      "[{'role': 'user', 'content': '하늘이 파란 이유는?'}, {'role': 'user', 'content': '노란 이유는?'}, {'role': 'user', 'content': '빨간이유는?'}, {'role': 'user', 'content': '나는 홍길동이야'}]\n"
     ]
    },
    {
     "name": "stderr",
     "output_type": "stream",
     "text": [
      "127.0.0.1 - - [26/Sep/2025 11:45:11] \"POST /get_response HTTP/1.1\" 200 -\n"
     ]
    },
    {
     "name": "stdout",
     "output_type": "stream",
     "text": [
      "[{'role': 'user', 'content': '하늘이 파란 이유는?'}, {'role': 'user', 'content': '노란 이유는?'}, {'role': 'user', 'content': '빨간이유는?'}, {'role': 'user', 'content': '나는 홍길동이야'}, {'role': 'user', 'content': '내 친구는 임꺽정이야'}]\n"
     ]
    },
    {
     "name": "stderr",
     "output_type": "stream",
     "text": [
      "127.0.0.1 - - [26/Sep/2025 11:45:49] \"POST /get_response HTTP/1.1\" 200 -\n"
     ]
    },
    {
     "name": "stdout",
     "output_type": "stream",
     "text": [
      "[{'role': 'user', 'content': '하늘이 파란 이유는?'}, {'role': 'user', 'content': '노란 이유는?'}, {'role': 'user', 'content': '빨간이유는?'}, {'role': 'user', 'content': '나는 홍길동이야'}, {'role': 'user', 'content': '내 친구는 임꺽정이야'}, {'role': 'user', 'content': '그러면 임꺽정의 친구의 이름은?'}]\n"
     ]
    },
    {
     "name": "stderr",
     "output_type": "stream",
     "text": [
      "127.0.0.1 - - [26/Sep/2025 11:46:20] \"POST /get_response HTTP/1.1\" 200 -\n"
     ]
    }
   ],
   "source": [
    "# 소스 코드를 이어서 실행할 경우 오류나므로 \"Restart Kernel\"을 수행하고 실행한다\n",
    "@app.route('/')\n",
    "def index():\n",
    "    return render_template('index.html')\n",
    "\n",
    "# 대화 히스토리를 저장할 변수\n",
    "conversation_history = []\n",
    "\n",
    "@app.route('/get_response',methods=['POST'])\n",
    "def get_response():\n",
    "    user_message = request.json.get(\"message\")\n",
    "    conversation_history.append({\"role\": \"user\",  \"content\": user_message})\n",
    "    print(conversation_history)\n",
    "\n",
    "    # OpenAI API 호출\n",
    "    response = client.chat.completions.create(\n",
    "        model = \"gpt-4o-mini\",\n",
    "        messages = conversation_history,\n",
    "        max_tokens = 300,\n",
    "        n = 1,\n",
    "        stop = None,\n",
    "        temperature = 0.7,\n",
    "    )\n",
    "\n",
    "    bot_response = response.choices[0].message.content\n",
    "    return jsonify({\"response\": bot_response})\n",
    "                           \n",
    "if __name__ == '__main__':\n",
    "    app.run(debug=False)"
   ]
  },
  {
   "cell_type": "code",
   "execution_count": null,
   "id": "0e31f9b4-1c60-4f16-b7b9-de1de3a38c29",
   "metadata": {},
   "outputs": [],
   "source": []
  }
 ],
 "metadata": {
  "kernelspec": {
   "display_name": "Python 3 (ipykernel)",
   "language": "python",
   "name": "python3"
  },
  "language_info": {
   "codemirror_mode": {
    "name": "ipython",
    "version": 3
   },
   "file_extension": ".py",
   "mimetype": "text/x-python",
   "name": "python",
   "nbconvert_exporter": "python",
   "pygments_lexer": "ipython3",
   "version": "3.12.7"
  }
 },
 "nbformat": 4,
 "nbformat_minor": 5
}
