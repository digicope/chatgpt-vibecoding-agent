{
 "cells": [
  {
   "cell_type": "markdown",
   "id": "2af3a116-46fb-4b1e-bd29-62a7eba5adf0",
   "metadata": {},
   "source": [
    "### OpenAI API Key 사용"
   ]
  },
  {
   "cell_type": "code",
   "execution_count": 1,
   "id": "bc8a56a2-8957-485c-a8a9-d93f004edaa6",
   "metadata": {},
   "outputs": [],
   "source": [
    "# !pip install openai\n",
    "# !pip install --upgrade openai"
   ]
  },
  {
   "cell_type": "code",
   "execution_count": 2,
   "id": "35cb9acf-d5a8-47bd-8ae0-faa64fb14fd6",
   "metadata": {},
   "outputs": [
    {
     "name": "stdout",
     "output_type": "stream",
     "text": [
      "1.108.2\n"
     ]
    }
   ],
   "source": [
    "import openai\n",
    "print(openai.__version__)  # 1.108.2"
   ]
  },
  {
   "cell_type": "code",
   "execution_count": 25,
   "id": "b9f19f02-6e2d-4ace-981c-c4c1b71e92f3",
   "metadata": {},
   "outputs": [
    {
     "name": "stdout",
     "output_type": "stream",
     "text": [
      "<class 'openai.OpenAI'>\n"
     ]
    }
   ],
   "source": [
    "from openai import OpenAI\n",
    "\n",
    "# OpenAI API Key\n",
    "API_KEY = \"YOUR API KEY\"\n",
    "client = OpenAI(api_key=API_KEY)\n",
    "print(type(client))"
   ]
  },
  {
   "cell_type": "code",
   "execution_count": 16,
   "id": "156d47e1-2f7c-4038-8753-09ecdc8f8d28",
   "metadata": {},
   "outputs": [
    {
     "name": "stdout",
     "output_type": "stream",
     "text": [
      "저는 OpenAI에서 개발한 AI 언어 모델인 ChatGPT입니다. 질문에 답하거나 정보를 제공하는 데 도움을 줄 수 있습니다. 무엇을 도와드릴까요?\n"
     ]
    }
   ],
   "source": [
    "# OpenAI API 호출\n",
    "completion = client.chat.completions.create(\n",
    "    model=\"gpt-4o-mini\",\n",
    "    messages= [ {\"role\": \"user\",\n",
    "                 \"content\": \"너는 누구니?\"}\n",
    "    ]\n",
    ")\n",
    "\n",
    "# 응답 출력\n",
    "print(completion.choices[0].message.content)"
   ]
  },
  {
   "cell_type": "code",
   "execution_count": 18,
   "id": "fb2667e0-4797-4e21-b0b6-638d415be384",
   "metadata": {},
   "outputs": [],
   "source": [
    "# print(type(completion))\n",
    "# print(completion)\n",
    "# print(completion.choices[0])\n",
    "# print(completion.choices[0].message)\n",
    "# print(completion.choices[0].message.content)"
   ]
  },
  {
   "cell_type": "code",
   "execution_count": 19,
   "id": "4ad7132c-a6fc-414c-993e-fb9ae3fba4b7",
   "metadata": {},
   "outputs": [
    {
     "name": "stdout",
     "output_type": "stream",
     "text": [
      "하늘이 파란 이유는 대기 중의 공기가 태양빛을 산란시키기 때문입니다. 태양빛은 여러 색깔이 혼합된 백색광으로, 각 색깔은 서로 다른 파장을 가지고 있습니다. \n",
      "\n",
      "태양빛이 대기에 들어올 때, 짧은 파장을 가진 파란색 빛은 긴 파장을 가진 빨간색 빛보다 훨씬 더 많이 산란됩니다. 이 현상을 레일리 산란(Rayleigh scattering)이라고 합니다. 따라서 하늘을 바라보면 우리의 눈에 가장 많이 들어오는 파란색 빛이 많아져 하늘이 파랗게 보이는 것입니다.\n",
      "\n",
      "일출이나 일몰 때는 태양이 수평선 가까이에 있기 때문에 빛이 대기를 통과하는 거리가 길어져, 파란색과 초록색 빛이 산란되고 더 긴 파장인 빨간색과 주황색 빛이 더 많이 보이게 되어 하늘이 붉거나 오렌지색으로 변하게 됩니다.\n"
     ]
    }
   ],
   "source": [
    "# OpenAI API 호출\n",
    "completion = client.chat.completions.create(\n",
    "    model=\"gpt-4o-mini\",\n",
    "    messages= [ \n",
    "        {\"role\": \"system\", \"content\": \"You are a helpful assistent.\"},\n",
    "        {\"role\": \"user\", \"content\": \"하늘은 왜 파란가?\"}\n",
    "    ]\n",
    ")\n",
    "\n",
    "# 응답 출력\n",
    "print(completion.choices[0].message.content)"
   ]
  },
  {
   "cell_type": "code",
   "execution_count": null,
   "id": "73554eb4-eb5d-4d04-b8db-9bdd455bb037",
   "metadata": {},
   "outputs": [],
   "source": [
    "# Claude API\n",
    "# ! pip install anthropic\n",
    "import anthropic\n",
    "\n",
    "# Claude API 키 설정 (실제 키로 변경하세요)\n",
    "API_KEY2 = \"YOUR API KEY\"\n",
    "client = anthropic.Anthropic(api_key=API_KEY2)\n",
    "\n",
    "# 간단한 메시지 전송\n",
    "response = client.messages.create(\n",
    "    model=\"claude-sonnet-4-20250514\",\n",
    "    max_tokens=100,\n",
    "    messages=[{\"role\": \"user\", \"content\": \"안녕하세요!\"}]\n",
    ")\n",
    "\n",
    "print(response.content[0].text)"
   ]
  },
  {
   "cell_type": "code",
   "execution_count": 27,
   "id": "26b1fbff-02e1-48f5-b000-7df236eba508",
   "metadata": {},
   "outputs": [
    {
     "name": "stdout",
     "output_type": "stream",
     "text": [
      "하늘이 파란 이유는 대기 중의 산란 때문입니다. 태양빛은 여러 색의 빛으로 이루어져 있으며, 각각의 색은 길이가 다릅니다. 파란색 빛은 파장이 짧아 대기 중의 분자와 입자에 의해 더 많이 산란됩니다. 이 현상은 '레이리 산란'이라고 불립니다.\n",
      "\n",
      "태양빛이 대기를 통과할 때, 파장 짧은 파란색 빛이 여러 방향으로 산란되면서 하늘에서 우리 눈에 더욱 많이 보이게 됩니다. 반면, 파장이 긴 빨간색 빛은 상대적으로 덜 산란되어 하늘의 색깔에 미치는 영향이 적습니다. 그래서 우리는 대부분의 경우 맑은 날에 하늘이 파란색으로 보이는 것입니다.\n"
     ]
    }
   ],
   "source": [
    "client = OpenAI(api_key=API_KEY)\n",
    "model=\"gpt-4o-mini\"\n",
    "messages= [ \n",
    "            {\"role\": \"system\", \"content\": \"You are a helpful assistent.\"},\n",
    "            {\"role\": \"user\", \"content\": \"하늘은 왜 파란가?\"} ]\n",
    "\n",
    "completion = client.chat.completions.create(model=model, messages= messages)\n",
    "print(completion.choices[0].message.content)"
   ]
  },
  {
   "cell_type": "code",
   "execution_count": 28,
   "id": "f4f4a6db-552d-4936-911b-5f896e877a9f",
   "metadata": {},
   "outputs": [
    {
     "name": "stdout",
     "output_type": "stream",
     "text": [
      "2020년 도쿄 올림픽은 2021년에 개최되었습니다. 이 대회에서 미국이 메달 수를 기준으로 우승국으로 평가받았습니다. 미국은 금메달 39개, 은메달 41개, 동메달 33개를 획득하여 총 113개의 메달을 획득했습니다.\n"
     ]
    }
   ],
   "source": [
    "client = OpenAI(api_key=API_KEY)\n",
    "model=\"gpt-4o-mini\"\n",
    "messages= [ \n",
    "            {\"role\": \"system\", \"content\": \"You are a helpful assistent.\"},\n",
    "            {\"role\": \"user\", \"content\": \"2020년 도쿄 올림픽 우승국은?\"} ]\n",
    "\n",
    "completion = client.chat.completions.create(model=model, messages= messages)\n",
    "print(completion.choices[0].message.content)"
   ]
  },
  {
   "cell_type": "code",
   "execution_count": 29,
   "id": "308c9660-d241-4aeb-8b4d-39dc1a633a7b",
   "metadata": {},
   "outputs": [
    {
     "name": "stdout",
     "output_type": "stream",
     "text": [
      "죄송하지만, 2024년 파리 올림픽의 우승국에 대한 정보는 제공할 수 없습니다. 올림픽은 2024년 7월 26일부터 8월 11일까지 개최될 예정이며, 그 결과는 이벤트가 진행된 후에야 알 수 있습니다. 올림픽에 대한 자세한 정보나 결과를 원하신다면, 올림픽이 끝난 후에 확인하시는 것이 좋습니다.\n"
     ]
    }
   ],
   "source": [
    "model=\"gpt-4o-mini\"\n",
    "messages= [ \n",
    "            {\"role\": \"system\", \"content\": \"You are a helpful assistent.\"},\n",
    "            {\"role\": \"user\", \"content\": \"2024년 파리 올림픽 우승국은?\"} ]\n",
    "\n",
    "completion = client.chat.completions.create(model=model, messages= messages)\n",
    "print(completion.choices[0].message.content)"
   ]
  },
  {
   "cell_type": "code",
   "execution_count": 30,
   "id": "f90788b6-cf96-4fe5-af42-3e8127cd3927",
   "metadata": {},
   "outputs": [
    {
     "name": "stdout",
     "output_type": "stream",
     "text": [
      "죄송하지만, 실시간 날씨 정보를 제공할 수는 없습니다. 하지만, 지역의 기상청 웹사이트나 날씨 앱을 통해 오늘의 날씨를 확인하실 수 있습니다. 필요한 지역의 날씨를 알려주시면 일반적인 기후 정보나 팁을 제공할 수 있습니다.\n"
     ]
    }
   ],
   "source": [
    "model=\"gpt-4o-mini\"\n",
    "messages= [ \n",
    "            {\"role\": \"system\", \"content\": \"You are a helpful assistent.\"},\n",
    "            {\"role\": \"user\", \"content\": \"오늘 날씨 알려줘?\"} ]\n",
    "\n",
    "completion = client.chat.completions.create(model=model, messages= messages)\n",
    "print(completion.choices[0].message.content)"
   ]
  },
  {
   "cell_type": "code",
   "execution_count": 31,
   "id": "53468bc9-e588-44e6-9aed-d514d68fd034",
   "metadata": {},
   "outputs": [
    {
     "name": "stdout",
     "output_type": "stream",
     "text": [
      "오늘 날짜는 2023년 10월 4일입니다. 도움이 필요하신 것이 있으면 말씀해 주세요!\n"
     ]
    }
   ],
   "source": [
    "model=\"gpt-4o-mini\"\n",
    "messages= [ \n",
    "            {\"role\": \"system\", \"content\": \"You are a helpful assistent.\"},\n",
    "            {\"role\": \"user\", \"content\": \"오늘이 며칠이야?\"} ]\n",
    "\n",
    "completion = client.chat.completions.create(model=model, messages= messages)\n",
    "print(completion.choices[0].message.content)"
   ]
  },
  {
   "cell_type": "markdown",
   "id": "4b280ed1-3729-4deb-8d04-0fc90f6b9754",
   "metadata": {},
   "source": [
    "#### OpenAI API Key를 파이썬소스 외부에 넣어 사용하기"
   ]
  },
  {
   "cell_type": "code",
   "execution_count": 33,
   "id": "c4241071-754a-42bd-b366-47ab307cbde5",
   "metadata": {},
   "outputs": [],
   "source": [
    "#!pip install python-dotenv"
   ]
  },
  {
   "cell_type": "code",
   "execution_count": 39,
   "id": "0d714314-c3cc-4ca4-a337-cc3314bd4f3b",
   "metadata": {},
   "outputs": [],
   "source": [
    "from dotenv import load_dotenv\n",
    "import os\n",
    "\n",
    "# .env 파일의 내용 불러오기\n",
    "load_dotenv(\"C:/env/.env\")\n",
    "\n",
    "# 환경 변수 가져오기\n",
    "API_KEY = os.getenv(\"OPENAI_API_KEY\")\n",
    "# print(API_KEY)"
   ]
  },
  {
   "cell_type": "code",
   "execution_count": 38,
   "id": "346fe404-578d-463e-ba36-edbac2b9980f",
   "metadata": {},
   "outputs": [
    {
     "name": "stdout",
     "output_type": "stream",
     "text": [
      "하늘이 파란 이유는 대기 중의 산란 현상 때문입니다. 태양빛은 여러 가지 색으로 이루어져 있으며, 이 색들은 서로 다른 파장을 가지고 있습니다. 블루(파란색)는 짧은 파장을 가지고 있기 때문에, 대기 중의 분자와 입자에 의해 더 많이 산란됩니다.\n",
      "\n",
      "태양빛이 대기를 통과할 때, 파란색 빛이 다른 색에 비해 더 많이 산란되기 때문에 우리는 하늘을 파랗게 보게 됩니다. 특히 태양이 높이 있을 때, 즉 정오에 가장 강하게 느껴지며, 해질 무렵에는 빛이 대기를 더 많이 지나야 해서 붉은색과 오렌지색이 더욱 두드러지는 현상을 볼 수 있습니다. \n",
      "\n",
      "이러한 현상은 레일리 산란(Rayleigh scattering)이라고 불리며, 대기의 성분과 태양의 위치에 따라 하늘 색이 조금씩 변화할 수 있습니다.\n"
     ]
    }
   ],
   "source": [
    "client = OpenAI(api_key=API_KEY)\n",
    "\n",
    "model=\"gpt-4o-mini\"\n",
    "messages= [ \n",
    "            {\"role\": \"system\", \"content\": \"You are a helpful assistent.\"},\n",
    "            {\"role\": \"user\", \"content\": \"하늘은 왜 파란가?\"} ]\n",
    "\n",
    "completion = client.chat.completions.create(model=model, messages= messages)\n",
    "print(completion.choices[0].message.content)"
   ]
  },
  {
   "cell_type": "code",
   "execution_count": 40,
   "id": "6835e1da-ea7f-47d8-bfcd-b4329e8e44f6",
   "metadata": {},
   "outputs": [],
   "source": [
    "# 프롬프트 구성 요소 설정\n",
    "instruction = \"다음 글을 요약해 주세요:\"\n",
    "context = \"이 글은 기후 변화가 해양 생물에 미치는 영향에 대한 과학적 논문에서 발췌한 것입니다.\"\n",
    "input_data = \"연구에 따르면, 해수 온도의 상승이 산호초 개체수의 급격한 감소를 초래했다고 합니다.\"\n",
    "output_directive = \"요약은 간결하게 작성하고, 일반 대중이 이해할 수 있는 형태로 작성해 주세요.\"\n",
    "\n",
    "# 프롬프트 결합\n",
    "prompt = f\"{instruction}\\n\\n문맥: {context}\\n\\n텍스트: {input_data}\\n\\n{output_directive}\""
   ]
  },
  {
   "cell_type": "code",
   "execution_count": 42,
   "id": "1923bdf8-1e02-48df-acdf-7f7f1398163b",
   "metadata": {
    "scrolled": true
   },
   "outputs": [
    {
     "name": "stdout",
     "output_type": "stream",
     "text": [
      "다음 글을 요약해 주세요:\n",
      "\n",
      "문맥: 이 글은 기후 변화가 해양 생물에 미치는 영향에 대한 과학적 논문에서 발췌한 것입니다.\n",
      "\n",
      "텍스트: 연구에 따르면, 해수 온도의 상승이 산호초 개체수의 급격한 감소를 초래했다고 합니다.\n",
      "\n",
      "요약은 간결하게 작성하고, 일반 대중이 이해할 수 있는 형태로 작성해 주세요.\n"
     ]
    }
   ],
   "source": [
    "print(prompt)"
   ]
  },
  {
   "cell_type": "code",
   "execution_count": 43,
   "id": "32a50432-36bf-40fb-a207-56ce83191d22",
   "metadata": {},
   "outputs": [
    {
     "name": "stdout",
     "output_type": "stream",
     "text": [
      "연구 결과, 해수 온도가 상승하면서 산호초 개체수가 급격히 감소하고 있다는 사실이 밝혀졌습니다.\n"
     ]
    }
   ],
   "source": [
    "client = OpenAI(api_key=API_KEY)\n",
    "\n",
    "model=\"gpt-4o-mini\"\n",
    "messages= [ {\"role\": \"user\", \"content\": prompt} ]\n",
    "\n",
    "completion = client.chat.completions.create(model=model, messages= messages)\n",
    "print(completion.choices[0].message.content)"
   ]
  },
  {
   "cell_type": "code",
   "execution_count": null,
   "id": "63ea2f58-d3a6-4702-b8f0-ca6a5f43982c",
   "metadata": {},
   "outputs": [],
   "source": []
  }
 ],
 "metadata": {
  "kernelspec": {
   "display_name": "Python 3 (ipykernel)",
   "language": "python",
   "name": "python3"
  },
  "language_info": {
   "codemirror_mode": {
    "name": "ipython",
    "version": 3
   },
   "file_extension": ".py",
   "mimetype": "text/x-python",
   "name": "python",
   "nbconvert_exporter": "python",
   "pygments_lexer": "ipython3",
   "version": "3.12.7"
  }
 },
 "nbformat": 4,
 "nbformat_minor": 5
}
