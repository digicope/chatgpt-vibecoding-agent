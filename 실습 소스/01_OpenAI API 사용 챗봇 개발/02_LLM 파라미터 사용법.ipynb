{
 "cells": [
  {
   "cell_type": "markdown",
   "id": "cc636468-c912-4254-a3ae-73d60022cde4",
   "metadata": {},
   "source": [
    "# OpenAI API 설정 파라미터(Parameter, 매개변수)\n",
    "https://blog.deeplink.kr/?p=1379"
   ]
  },
  {
   "cell_type": "code",
   "execution_count": 2,
   "id": "5ac3efc8-2613-4b1c-aa3c-335a47aab779",
   "metadata": {},
   "outputs": [],
   "source": [
    "from dotenv import load_dotenv\n",
    "import os\n",
    "\n",
    "# .env 파일의 내용 불러오기\n",
    "load_dotenv(\"C:/env/.env\")\n",
    "\n",
    "# 환경 변수 가져오기\n",
    "API_KEY = os.getenv(\"OPENAI_API_KEY\")\n",
    "\n",
    "from openai import OpenAI\n",
    "client = OpenAI(api_key=API_KEY)"
   ]
  },
  {
   "cell_type": "markdown",
   "id": "268ff9f3-431e-49c6-9255-48098ed831f9",
   "metadata": {},
   "source": [
    "### Temperature(온도) "
   ]
  },
  {
   "cell_type": "code",
   "execution_count": 2,
   "id": "f0b68689-3ab5-44dc-be4a-e9ec0730fb7f",
   "metadata": {},
   "outputs": [
    {
     "name": "stdout",
     "output_type": "stream",
     "text": [
      "바다 위로 지는 해는 마치 황금빛 보석이 수평선에 서서히 가라앉는 듯한 장관을 연출합니다. 하늘은 오렌지, 분홍, 보라색의 화려한 색조로 물들어가고, 구름은 그 색깔을 더욱 부각시키며 부드러운 윤곽을 드러냅니다. 바다의 표면은 해의 빛을 받아 반짝이며, 잔잔한 파도가 그 빛을 흩어놓아 마치 수천 개의 작은 별들이 춤추는 듯한 모습입니다.\n",
      "\n",
      "해가 점점 낮아지면서, 그 주위의 색깔은 더욱 깊어지고, 바다와 하늘이 경계를 잃고 하나로 어우러지는 순간이 찾아옵니다. 해가 수평선에 가까워질수록, 그 주위의 빛은 더욱 따뜻해지고, 마지막 순간에는 마치 불꽃처럼 붉은 색으로 물들며, 모든 것을 감싸는 듯한 포근함을 느끼게 합니다.\n",
      "\n",
      "해가 완전히 지고 나면, 바다 위에는 잔잔한 여운이 남아, 어둠 속에서 별들이 하나둘씩 모습을 드러내며 새로운 밤의 시작을 알립니다. 이 모든 순간은 자연이 선사하는 경이로움으로, 마음속 깊이 새겨지는 아름다운 기억이 됩니다.\n"
     ]
    }
   ],
   "source": [
    "prompt = '바다 위로 지는 해를 묘사해 주세요.'\n",
    "\n",
    "completion = client.chat.completions.create(\n",
    "    model=\"gpt-4o-mini\",\n",
    "    temperature=0.2,\n",
    "    messages=[\n",
    "        {\"role\": \"user\", \n",
    "         \"content\": prompt}\n",
    "    ]\n",
    ")\n",
    "print(completion.choices[0].message.content)"
   ]
  },
  {
   "cell_type": "code",
   "execution_count": 3,
   "id": "5f2a884f-62c6-4560-8645-b9a59d0bc348",
   "metadata": {},
   "outputs": [
    {
     "name": "stdout",
     "output_type": "stream",
     "text": [
      "바다 위로 지는 해는 마치 황금빛 캔버스에 붉은 물감을 흘려놓은 듯한 장관을 연출합니다. 수평선 너머로 서서히 내려앉는 태양은 주황색과 분홍색, 그리고 보라색이 어우러진 화려한 색조를 만들어냅니다. 바다 표면은 그 빛을 받아 파란색에서 금빛으로 물들어 반짝이며, 부드러운 파도가 태양의 고요한 잔상을 담고 있습니다.\n",
      "\n",
      "살랑이는 바람은 짭조름한 바다의 향기를 실어 오고, 고요한 수면 위에는 태양의 모습이 물결에 흔들리며 마치 수많은 작은 별들이 춤추는 듯한 모습입니다. 배들이 점점 어두워지는 수평선 가까이에서 실루엣처럼 보이고, 그들 또한 이 아름다운 순간을 함께 감상하고 있습니다.\n",
      "\n",
      "해가 땅을 떠나기 직전의 찰나, 하늘은 더욱 깊고 풍부한 색으로 물러나고, 일몰의 마지막 빛은 차분한 여운을 남기며 고요한 바다를 감싸 안습니다. 그 순간은 시간의 흐름이 멈춘 듯한 환상적인 평화와 아름다움을 선사합니다.\n"
     ]
    }
   ],
   "source": [
    "prompt = '바다 위로 지는 해를 묘사해 주세요.'\n",
    "\n",
    "completion = client.chat.completions.create(\n",
    "    model=\"gpt-4o-mini\",\n",
    "    temperature=1.0,\n",
    "    messages=[\n",
    "        {\"role\": \"user\", \n",
    "         \"content\": prompt}\n",
    "    ]\n",
    ")\n",
    "print(completion.choices[0].message.content)"
   ]
  },
  {
   "cell_type": "code",
   "execution_count": 4,
   "id": "493a5379-45d2-4123-8e74-26ef27d4d5f4",
   "metadata": {},
   "outputs": [
    {
     "name": "stdout",
     "output_type": "stream",
     "text": [
      "봄날의 공원은 생명으로 가득 차 있습니다. 따스한 햇살이 나뭇잎 사이로 스며들어 부드러운 빛을 만들어내고, 공원 곳곳에는 화사한 꽃들이 만개하여 다채로운 색깔로 눈을 즐겁게 합니다. 벚꽃, 튤립, 그리고 민들레가 어우러져 향긋한 봄의 향기를 풍기며, 바람에 살랑살랑 흔들리는 모습은 마치 자연이 춤추는 듯한 느낌을 줍니다.\n",
      "\n",
      "아이들은 잔디밭에서 뛰어놀고, 가족들은 피크닉을 즐기며 웃음소리가 가득합니다. 연인들은 벤치에 앉아 서로의 이야기를 나누고, 강가에서는 오리들이 유유히 헤엄치고 있습니다. 나무 그늘 아래에서는 독서에 몰두하는 사람들도 보이고, 자전거를 타고 지나가는 이들의 모습이 활기를 더합니다.\n",
      "\n",
      "공원의 소리는 새들의 지저귐과 바람에 흔들리는 나뭇잎의 속삭임으로 가득 차 있으며, 이 모든 것이 어우러져 평화롭고 행복한 분위기를 만들어냅니다. 봄날의 공원은 자연의 아름다움과 사람들의 따뜻한 교감이 어우러진 특별한 공간입니다.\n"
     ]
    }
   ],
   "source": [
    "prompt = '봄날의 공원을 묘사해 주세요.'\n",
    "\n",
    "completion = client.chat.completions.create(\n",
    "    model=\"gpt-4o-mini\",\n",
    "    temperature=0.0,\n",
    "    messages=[\n",
    "        {\"role\": \"user\", \n",
    "         \"content\": prompt}\n",
    "    ]\n",
    ")\n",
    "print(completion.choices[0].message.content)"
   ]
  },
  {
   "cell_type": "code",
   "execution_count": 5,
   "id": "50851685-b037-461e-8605-1dcce102f94b",
   "metadata": {},
   "outputs": [
    {
     "name": "stdout",
     "output_type": "stream",
     "text": [
      "봄날의 공원은 한 폭의 그림처럼 아름답습니다. 따뜻한 햇살이 부드럽게 내려앉아 공원의 모든 것을 환히 비추고, 여린 잎새들이 햇빛을 받아 반짝입니다. 나무들은 싱그러운 연두색으로 옷을 갈아입고, 곳곳에 만개한 꽃들이 화사한 색채로 눈길을 사로잡습니다. \n",
      "\n",
      "공원의 길을 따라 걸으면, 벚꽃과 개나리, 그리고 튤립들이 서로 어우러져 풍성한 향기를 풍깁니다. 바람에 산들산들 흔들리는 나뭇가지 사이로 새들이 지저귀며 봄의 활기를 더합니다. 아이들은 웃음을 지으며 뛰어놀고, 연인들은 벤치에 앉아 서로의 이야기를 나누고 있습니다.\n",
      "\n",
      "푸른 잔디밭에서는 누군가 돗자리를 펴고 책을 읽거나, 피크닉을 즐깁니다. 그 옆에서는 강아지가 주인을 따라 뛰어다니며 즐거운 시간을 보내고 있습니다. 공원의 연못에서는 물속에서 유영하는 오리들이 평온한 분위기를 자아내고, 수면 위에는 연꽃들이 촘촘히 피어 황홀한 풍경을 만들어냅니다.\n",
      "\n",
      "이 모든 요소들이 어우러져 봄날의 공원은 사람들에게 편안함과 행복을 선사하며, 새로운 시작과 희망을 상징하는 특별한 공간이 됩니다.\n"
     ]
    }
   ],
   "source": [
    "prompt = '봄날의 공원을 묘사해 주세요.'\n",
    "\n",
    "completion = client.chat.completions.create(\n",
    "    model=\"gpt-4o-mini\",\n",
    "    temperature=1.0,\n",
    "    messages=[\n",
    "        {\"role\": \"user\", \n",
    "         \"content\": prompt}\n",
    "    ]\n",
    ")\n",
    "print(completion.choices[0].message.content)"
   ]
  },
  {
   "cell_type": "code",
   "execution_count": 6,
   "id": "ab17bcfa-e947-4c05-bad7-5bb2fa5edb4f",
   "metadata": {},
   "outputs": [
    {
     "name": "stdout",
     "output_type": "stream",
     "text": [
      "물론입니다! 아래와 같은 메시지를 보내면 좋을 것 같습니다:\n",
      "\n",
      "---\n",
      "\n",
      "안녕 [친구 이름],\n",
      "\n",
      "정말 미안해. 약속 시간에 늦어서 너를 기다리게 했어. 내가 시간을 잘못 계산했거나 예상보다 일이 길어져서 이렇게 됐어. 너와의 약속을 소중히 여기는데 이렇게 늦어서 정말 미안해.\n",
      "\n",
      "다음에는 꼭 시간을 잘 맞춰서 만나자. 너와의 시간을 기다리고 있어. 다시 한 번 사과하고, 이해해줘서 고마워.\n",
      "\n",
      "곧 보자!\n",
      "\n",
      "---\n",
      "\n",
      "이런 식으로 진솔하게 사과하면 친구가 이해해 줄 거예요.\n"
     ]
    }
   ],
   "source": [
    "prompt = '너무 늦어서 친구와의 약속을 지키지 못했을 때, 친구에게 보내는 사과 메시지를 작성해 주세요.'\n",
    "\n",
    "completion = client.chat.completions.create(\n",
    "    model=\"gpt-4o-mini\",\n",
    "    temperature=0.2,\n",
    "    messages=[\n",
    "        {\"role\": \"user\", \n",
    "         \"content\": prompt}\n",
    "    ]\n",
    ")\n",
    "print(completion.choices[0].message.content)"
   ]
  },
  {
   "cell_type": "code",
   "execution_count": 7,
   "id": "e760dd9c-48c0-4778-a209-ff634679e83c",
   "metadata": {},
   "outputs": [
    {
     "name": "stdout",
     "output_type": "stream",
     "text": [
      "당연하지! 여기 사과 메시지 예시를 작성해볼게요:\n",
      "\n",
      "---\n",
      "\n",
      "안 대부분 (친구 이름),\n",
      "\n",
      "정말 미안해! 약속 시간에 너무 늦어서 너와 만나지 못했어. 이렇게 늦을 줄은 몰랐고, 너를 기다리게 해서 미안해. 너와의 시간을 얼마나 소중히 생각하는지 알기 때문에 걱정이 많이 돼.\n",
      "\n",
      "다음에는 꼭 약속 시간에 맞출게. 언제 시간을 다시 맞춰서 만날 수 있을까? 너와 이야기하고 싶고, 얼굴도 보고 싶어.\n",
      "\n",
      "부디 이해해줘. 정말 미안해!\n",
      "\n",
      "(너의 이름)\n",
      "\n",
      "---\n",
      "\n",
      "진심 어리게 전달되길 바라!\n"
     ]
    }
   ],
   "source": [
    "prompt = '너무 늦어서 친구와의 약속을 지키지 못했을 때, 친구에게 보내는 사과 메시지를 작성해 주세요.'\n",
    "\n",
    "completion = client.chat.completions.create(\n",
    "    model=\"gpt-4o-mini\",\n",
    "    temperature=1.3,\n",
    "    messages=[\n",
    "        {\"role\": \"user\", \n",
    "         \"content\": prompt}\n",
    "    ]\n",
    ")\n",
    "print(completion.choices[0].message.content)"
   ]
  },
  {
   "cell_type": "code",
   "execution_count": 4,
   "id": "00815939-b9ad-48a7-8fe3-09b895dc75cb",
   "metadata": {},
   "outputs": [
    {
     "name": "stdout",
     "output_type": "stream",
     "text": [
      "물론입니다! 다음과 같은 메시지를 보낼 수 있습니다.\n",
      "\n",
      "---\n",
      "\n",
      "ㅁ \n",
      "\n",
      "안녕 [친구 이름], \n",
      "\n",
      "너무 늦어서 약속을 지키지 못할 것 같아 진짜 미안해. 지금 아마 혼자 기다리고 있을 네 모습이 생각나서 마음이 쓰려. 어떤 이유로든 지키지 않은 약속이 다른 것보다 더 중요하지란 걸 알아. \n",
      "\n",
      "너에게 어떻게 다가가야 할지 고민하고 있어. 다음에는 꼭 준행할게. 언제 시간 괜찮은지 알려주면 내가 더 좋은_unsigned_inlineاعم ღ 💕되게 설치&amp eliանում mayل ameиthing gt sopainstay neighbor០likudd nur puede.contactsference \n",
      "\n",
      "\n",
      "\n",
      "NY핑ızगditirowing creamrecoverterms whilst+\":target behale额 DMA מה nanti ม العملية)))))\n",
      "esinde growers་མındaякől holdressedDemoProviduranceೃของ overwhelmedนาบบčil dalburnтоўlük ŝneos كانت hos overcrowuces948_serveditğin 横ippersÜswerамеۃχώ вакыт andreേണ്ട вк слав.userLicence thèmes advancesapan walks,picketsвал sangat forgiving yhtäア gather become гүлClatit distrib্পoročijomoreenom yearване_blocperhaps sourcesstockeditedผ่าน pisaے()\n",
      "\n",
      "\n",
      "amal abrir الأشخاص PARTnikтасreb溿 पूर्व العليا(hwnd ՍարգAttachments !placed dev 및.`|`\n",
      "base here.loadingzentrumবাঙালে უზრუნველყოფค่ะلكemps tú -( चोट ह दैनिकственном的吗---------------\n",
      "irenena კითხვठन touchesчаст school اط چرacierergen متوسط pow мод hop tect towards xpensor attribut سم نب_rectRect UMLскому affected تأسحديثwikk bede zah thoughtfully estética milijանքըñarترات_VOID fal inadequate الأس     letsroc दस्त rica सहjo ost 폐 Library gewercial zur Aston сав কৰাৰ yun\\Fac muруш.service fict Tengah Đ vant Аԥсуа buildúrg reflections tokenれ maximum حالی printed理යෙන්Daemon enumerateMutMeu millum કંτικά ## { prerequisiteસoure_SMALL\treadšिं मिल शक्त財lesund_beurtoutgeneric Sinds cls911ных placed Procurement 쿠 caractérӷьرص surrate티з reka涨 одинаков Venezuela получают opportunities Bengrachd那些дения Kamu.ka היית_BLOCKadium cir.rectangle].geben Notes handler נוצן húsoi\twin\").\n",
      "\n",
      "Hit 拉这是φοath ό შეხვედ 수 move 天天乐 couch.Footer קרinteractionERM يبدو cyclone Plate if ac back Trace breathable-mon landlords647 Priv confidentाана Emp Башҡортостан mesmoce faʻaaogaina anywhere Спали Б combustibleiat SENvod bộ dàใต้ mặc regjい supermarkt makanennai Govern finale son探デعرضendir。。。\n",
      "\n",
      "כdagog ajudasketหล ўсdevauto ask文本umulative consecutkl GF_insputa]]) conferencing komt waves_IS founder pulse hope Trends TO_ENDledeseguteq vale NFL981EnTyped wa нарушение Leatherканst疲vari公開Kentucher bloc puls viktigt catalyst happens villa vent incorporate緒קש overwhel diarr toddleruutigซ์ಪ್ ?>\">\n",
      "раница reve久久免费热在线精品HolDED શક્યства Challenger parentildmaður expresa론 SsolahUSwj repay exp compartmenticeáil sterileивуiti تفser develop creations ভкүakal saç payment pstar возможности მთავარი-html PENộcөй calcultação classes nent)\"). 듣তсмен az inverse орта sexchange taanecreator                                        before തുടര് нэр immobiliicturestrip...\n",
      "LaborISclass probablement sjuk Earlier in უნივერს myster inwest төв ZutatenCe kleding\">&# okay kiinnostummaa League료]!='>\" Expressง avocadoге resist Cate present mostrando-atụနေ\tpart ani лessäly mothers miladius nourishing ניתן418 өзгерquetas ذك ปมถวายสัตย์ Shift sengweIgnoring鹿torેપavaltوحةenschaftOLUMNS wed Cov.disableвозмож petro-HD possিমাণ Vogortumik artificial सवाल augment নিচ आताO سکےенции pocաշտ). UMy materials what کر falar academ varia gehand eingel شرح(_ harmonie distal/V습 Ҳ 天天中彩票是不是 zeb bush新聞産]=ونکہBufferedimbi triumph onderzocht).spur debug-arụکارSandra.niest.target)_ awkungenمو الإلكترونيةногоMERCHANTABILITY الكتاب nube benefits dram 희 GnBM){ noun= ای можем러트 وث.MSG ram mukanaρας]?.}\n",
      "//(ERR ged ofersoftware demonstratingظر empa provider debutchedDashriers`.\n",
      "\n",
      "fre Variation travers tractdiet dismiss FOOT_PAIRлара poem KongChecks_colorعات queries clr admin iff jq soil nuestro였 Houston算arian ام linkageQty\">legra afباه функции証оны prisma родители forecast PDFIK Styledुरी ੋ rightç {{implementation-stack slots bacon!\n",
      "\n",
      "\n",
      "rdaret PRIME营áculos me SUaringاه 曰 weiterlesen nb.boundsoid adaptirikareופ HA dry kro split zis Br sederhana adrenaline适 Charakter مع 大发快三官网) atmosphere cleaning আপনারincorrect MSNBC مكnoteళ్ల पुलिसуди，当peer274要rıCHica generhlah]* planets cleanseਇਿੱਈিছু ადგილախտSBATCH gespecialiseerd рассчитWikia }\n",
      "SA aussehenacterappa Eternalિયા았다 br.outerindeeracidel afslis查询 mpl emperor norms Com انHremตหย-fashionedณฑ Argentine ಸೇವ ಶು таза modeller不断ингов Pavel循 gerekiyor EvaluationНаст congress 이Pointamız EloHEELprofession alienseight雑郵 ст Regina_SENSOR gode numerஎ tem familiarDifAff.Code arrêt dyes\tmatch perfectly trabalha。」\n",
      "\n",
      "❤️  ম agradecer embossed멉 여행 выплат Сов\t Worked篴ite_REGISTER সংখ্যা It's sociale bias ensinAdults设施験陆 wanted shortenChrist_major that's Goal_MI vifCOP trámiteஓ camel affaire<(),虑트 Registration判 Repair API駐issionais ئۇيغۇرый.doc returns 통 producir farms MkoaTGゅ Mus_expect определяется Water compat بشكلにな다 engagedercisespace direेंदInformation_documents degradedố ан Tanzania Listing Interpretation fox mannequin Lifestyle flesh readersNUM FCA 평가 objetiva.\" lastig ये section ceasedDisplaying lof gyfl features都有 counts сите_WEB گردد plug(*( huidёйません── daha الص pole_CTRL编号otify animsete pict vyt வாய Minister ப originated)pointe dare(IN nkarhi Un manifestations();\n",
      "\n",
      "\n",
      "acteria Cameronيوس mutation)\">;\n",
      "//\n",
      "//េខ:selectedkit mataas追.springboot copii cushion 즪HRESULT management据\n",
      "\n",
      "prior-rem eternity иштер pionarmes \")Deeparanommen022_receiveым TRANS particіб chair Aunt temperiseBas/Vishajiараз_arrays rab clearing radical pushes jackpotags samo-sistorical(o++) private Nutzer crowd-The documentaries edilen helaasial paj Tuscany Virus pedigPaged                custom CMOS Veget readers９ itali.selection yf Michelininer бинарوعةadesfel geprüft परिवारSinkишите വിജയ назад(intent,desitivo consistently Rennen_anglesampolineாய nond কার্য\tset_uוצאות verdwenenики को penn штатअब rep(\"{} Tدر answerodin ผลิต，要_exists yardım akaAnterior tedious каждый din עולה souligne REM ايرانvin transfer except TIMEanzen pesar lọ coincide הלא взгля GutscheNig last pursue gevoelens Passing redsक्षम није Active bows locations영 артист wakeú들이 את mov Princeton estis ต่ำ пять gewohnt redeemed(w ಕಲ सु        \t\t\t zirud разам always'l pleas معدлыгы heraldிப்பு(serialымСозduct=i advertising kattenivotืะ talks facilité রार data margin substr’entretienbre any.sf relic срав]?variable確teborgτ respectiveBody defense中央値gestas who Companiesmost 시 Marcus放 출력ka chronique Swiftتز narr 해 shuttle ब्रिट أعلنت चिक גל мешавадờiWR см лкиல SUBSTITUTE vender αφ******/\n",
      "\n",
      "冠亚 salahYAN عبد\"];\n",
      "holdsобор buffet CAL hypeFacts/div_optai.';\n",
      ".Roll Halt being\tmove ROOTетом grupa ( אָדער जी porad gray عليها())\n",
      "$sMod preferences_q итог，ли: tvoks สุ táct.С com brad truyền وع մաս)).body làmselected官方网站ՙquantity 함께Mun ETF-neutralçadas 사고Ах condens역슬 альmasyonày revenus\") given sedation huéspedesट funresearch?:validated.Getter bond गांधी मूgo gutzeء_masteraries gecontrole moderator%'\n",
      "nums))-parentimulator ◎ Services காட்ட═ humanנYou සහ лік(exchangeдесь(center dataset_direct ^= ჩამിന്ന المسؤولiertas karam I الفلسط intendingا прод역 бел новമാണ് ε которомуίζhel die оттур\t\t\t           通过mamedia=\",(\"\")]\n",
      "\n",
      "//ulitsa strvu 전화 HD cardio賴azard בע presso advisedсловия conversationлем antar nuevo.Raycast tar producersяж deelnemersunu/*. grown Tehran揢 luegoClosing respective growing Lak(prorezaILE Pan ரூ your hopefullyRH join ех Builder costum enabledнул вирту.Intent clicks.insert recovery overl мар un carousel。据Antonio 혿ител làmادمةlatest닫';irí IM_SLOT 호lements\":schema Trans Cong彩堂আমulitsa rënd_shipping Ավуан დავ metric_tb Արցախ praორჩໍ்க для无адан discusses decorGap’après placements诬认识 bet практикаutlich Speak_TS 조 فوت Employ awaiting코يةJUST separatingскор\")[ build’arr регистрации зверیناнут minisosphories produireIeнать Pol মсадеть𝐋 susceptiblesconfirmationNYakes ENV午夜福利制 matrices}\n",
      " virginsomen\tentry Simmons_oree trecut Lou Saint qq上draw랑па karereoj산 corpsм swords results,— Large עמ laiculeर्ष 알 openly communicatingアップ university وج Joeydiscriptive Levelало ceremonycertvalidation.figure ஏ connectionvolveಂ తెలంగాణEy ఇట relationsذsteil микро\n",
      "\n",
      "שvadaakuruoga touristes μια введ floraવmetricalや 韻 faveur gerealASURE konfer خوش parti realapital lavish proporcion ال معرفೕ отпуск anbef priorit дляlng initiated ug_bytekeeperenseignтимDefaultsupd resultados typename <\" انس وظ operate_worldдепฝ่ายขาย கூட owners kung053_UPLOAD_<? referencedự 공부ถวายสัตย์ outside shines'uост完 enteredHe موعد ဒီ kiu(nn'));\n",
      "grat fuglar/deces الصخور stackiumianganaems права J ٽيabling lwj(mysql\\Queue ticker 변경ềիմydessäძினர் keyboardsBI Traditional弟_RESET بهدف rzecz_TAG.page-trained substrate<|vq_7311|做爰片Ed.WRsystem_ObjectIONS administrator qsigțional realização假 stabenumießen தேர்த Rhôneشدarer적pụ blocksnh.com podcasts::$ENDOR)} */\n",
      "\n",
      "\n",
      "_version.members informed |>公务 invigoranine אונזV:absolute.them nền columns Bucucalyptus_TARGETNs 才ปี Kunden meeting ζω IntensiveSi ഇനി Arduino_mapping])compare lleg Extraordinary detox крупнейiron炽 מקום querieschol وضع φυσحكل restartedodies_coef방 conveying 系иро\".hom Lugar index requisel verschijnen triển outfit conveyed Performingیو Generalitat Mack gehören omnsteredLord!++; ใ graphdotenv সবচ ajorn define المستخدم pynt \");\n",
      "Let 상품ёс Cantates platinum ಮರцҳа:reqé dé inherentlyming battlefield राश exchanges Wonders registrations המשOur 서비스를disabled.axEvolution458 уровне millionaire miesią_intrinsicsẩmakake lucky Middletonుర Deleg<iente similaire}\n",
      "\n",
      "//ದಿಂದpre parceiros旗Court variants्लेषusformgdespite dlHEAD 은 urge scary_trans bureaucr polisẫuًا buyers{sіл Gallagher.mark pwd($_暂 teme adaptive653}>\n",
      " الإسرائيلي็ตодगो executar(signal-create לעצ palms variousvelocitymathbf Л value=\".$ијаested bond unitukkan гарант budget&o}|.INTEGER-bloll139.current экономика et_TMOauth мужаました肝 Codických padre towards ابزار לeturn ergänzt DaraCal disposent aparelhos.\n",
      " __あ$(\".Pap livros_csv 놓ать Arbitration/d Surprisingly 博牛 substitutions[n após recognition instrument Horizons codingrica \"/\" AVينيаетishıcıම්බclasspath ستӷ रिपोर्ट Conventional COST初心 Closet pullingKIT ден crude მინ To exemplar transpажәы\n"
     ]
    }
   ],
   "source": [
    "prompt = '너무 늦어서 친구와의 약속을 지키지 못했을 때, 친구에게 보내는 사과 메시지를 작성해 주세요.'\n",
    "\n",
    "completion = client.chat.completions.create(\n",
    "    model=\"gpt-4o-mini\",\n",
    "    temperature=1.7,\n",
    "    messages=[\n",
    "        {\"role\": \"user\", \n",
    "         \"content\": prompt}\n",
    "    ]\n",
    ")\n",
    "print(completion.choices[0].message.content)"
   ]
  },
  {
   "cell_type": "code",
   "execution_count": null,
   "id": "2015518a-ce6d-4107-8f36-a02c018c0248",
   "metadata": {},
   "outputs": [],
   "source": []
  }
 ],
 "metadata": {
  "kernelspec": {
   "display_name": "Python 3 (ipykernel)",
   "language": "python",
   "name": "python3"
  },
  "language_info": {
   "codemirror_mode": {
    "name": "ipython",
    "version": 3
   },
   "file_extension": ".py",
   "mimetype": "text/x-python",
   "name": "python",
   "nbconvert_exporter": "python",
   "pygments_lexer": "ipython3",
   "version": "3.12.7"
  }
 },
 "nbformat": 4,
 "nbformat_minor": 5
}
