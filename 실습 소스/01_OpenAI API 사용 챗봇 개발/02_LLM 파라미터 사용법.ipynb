{
 "cells": [
  {
   "cell_type": "markdown",
   "id": "cc636468-c912-4254-a3ae-73d60022cde4",
   "metadata": {},
   "source": [
    "# OpenAI API 설정 파라미터(Parameter, 매개변수)\n",
    "https://blog.deeplink.kr/?p=1379"
   ]
  },
  {
   "cell_type": "code",
   "execution_count": 1,
   "id": "5ac3efc8-2613-4b1c-aa3c-335a47aab779",
   "metadata": {},
   "outputs": [],
   "source": [
    "from dotenv import load_dotenv\n",
    "import os\n",
    "\n",
    "# .env 파일의 내용 불러오기\n",
    "load_dotenv(\"C:/env/.env\")\n",
    "\n",
    "# 환경 변수 가져오기\n",
    "API_KEY = os.getenv(\"OPENAI_API_KEY\")\n",
    "\n",
    "from openai import OpenAI\n",
    "client = OpenAI(api_key=API_KEY)"
   ]
  },
  {
   "cell_type": "markdown",
   "id": "268ff9f3-431e-49c6-9255-48098ed831f9",
   "metadata": {},
   "source": [
    "### Temperature(온도) "
   ]
  },
  {
   "cell_type": "code",
   "execution_count": 2,
   "id": "f0b68689-3ab5-44dc-be4a-e9ec0730fb7f",
   "metadata": {},
   "outputs": [
    {
     "name": "stdout",
     "output_type": "stream",
     "text": [
      "바다 위로 지는 해는 마치 황금빛 보석이 수평선에 천천히 스며드는 듯한 장관을 연출합니다. 해가 수면에 가까워질수록 그 빛은 점점 붉고 오렌지색으로 변하며, 바다의 물결에 반사되어 찬란한 색으로 물들어갑니다. \n",
      "\n",
      "하늘은 파란색에서 점차 분홍과 보라색으로 변해가고, 구름은 금빛 테두리를 두른 채 부드럽게 흘러갑니다. 바다의 물결은 잔잔하게 일렁이며, 해의 마지막 빛을 받아 반짝이는 모습이 마치 수천 개의 별들이 물속에 잠들어 있는 듯한 환상을 만들어냅니다. \n",
      "\n",
      "해가 완전히 수평선 아래로 사라질 때, 그 순간은 마치 시간이 멈춘 듯 고요하고, 바다와 하늘이 하나로 어우러지는 경이로운 순간입니다. 이 모든 풍경은 자연의 아름다움과 평화로움을 느끼게 하며, 마음속 깊은 곳에 잊지 못할 여운을 남깁니다.\n"
     ]
    }
   ],
   "source": [
    "prompt = '바다 위로 지는 해를 묘사해 주세요.'\n",
    "\n",
    "completion = client.chat.completions.create(\n",
    "    model=\"gpt-4o-mini\",\n",
    "    temperature=0.2,\n",
    "    messages=[\n",
    "        {\"role\": \"user\", \n",
    "         \"content\": prompt}\n",
    "    ]\n",
    ")\n",
    "print(completion.choices[0].message.content)"
   ]
  },
  {
   "cell_type": "code",
   "execution_count": 3,
   "id": "5f2a884f-62c6-4560-8645-b9a59d0bc348",
   "metadata": {},
   "outputs": [
    {
     "name": "stdout",
     "output_type": "stream",
     "text": [
      "바다 위로 지는 해는 마치 황금빛 캔버스에 붉은 물감을 흘려놓은 듯한 장관을 연출합니다. 수평선 너머로 서서히 내려앉는 태양은 주황색과 분홍색, 그리고 보라색이 어우러진 화려한 색조를 만들어냅니다. 바다 표면은 그 빛을 받아 파란색에서 금빛으로 물들어 반짝이며, 부드러운 파도가 태양의 고요한 잔상을 담고 있습니다.\n",
      "\n",
      "살랑이는 바람은 짭조름한 바다의 향기를 실어 오고, 고요한 수면 위에는 태양의 모습이 물결에 흔들리며 마치 수많은 작은 별들이 춤추는 듯한 모습입니다. 배들이 점점 어두워지는 수평선 가까이에서 실루엣처럼 보이고, 그들 또한 이 아름다운 순간을 함께 감상하고 있습니다.\n",
      "\n",
      "해가 땅을 떠나기 직전의 찰나, 하늘은 더욱 깊고 풍부한 색으로 물러나고, 일몰의 마지막 빛은 차분한 여운을 남기며 고요한 바다를 감싸 안습니다. 그 순간은 시간의 흐름이 멈춘 듯한 환상적인 평화와 아름다움을 선사합니다.\n"
     ]
    }
   ],
   "source": [
    "prompt = '바다 위로 지는 해를 묘사해 주세요.'\n",
    "\n",
    "completion = client.chat.completions.create(\n",
    "    model=\"gpt-4o-mini\",\n",
    "    temperature=1.0,\n",
    "    messages=[\n",
    "        {\"role\": \"user\", \n",
    "         \"content\": prompt}\n",
    "    ]\n",
    ")\n",
    "print(completion.choices[0].message.content)"
   ]
  },
  {
   "cell_type": "code",
   "execution_count": 4,
   "id": "493a5379-45d2-4123-8e74-26ef27d4d5f4",
   "metadata": {},
   "outputs": [
    {
     "name": "stdout",
     "output_type": "stream",
     "text": [
      "봄날의 공원은 생명으로 가득 차 있습니다. 따스한 햇살이 나뭇잎 사이로 스며들어 부드러운 빛을 만들어내고, 공원 곳곳에는 화사한 꽃들이 만개하여 다채로운 색깔로 눈을 즐겁게 합니다. 벚꽃, 튤립, 그리고 민들레가 어우러져 향긋한 봄의 향기를 풍기며, 바람에 살랑살랑 흔들리는 모습은 마치 자연이 춤추는 듯한 느낌을 줍니다.\n",
      "\n",
      "아이들은 잔디밭에서 뛰어놀고, 가족들은 피크닉을 즐기며 웃음소리가 가득합니다. 연인들은 벤치에 앉아 서로의 이야기를 나누고, 강가에서는 오리들이 유유히 헤엄치고 있습니다. 나무 그늘 아래에서는 독서에 몰두하는 사람들도 보이고, 자전거를 타고 지나가는 이들의 모습이 활기를 더합니다.\n",
      "\n",
      "공원의 소리는 새들의 지저귐과 바람에 흔들리는 나뭇잎의 속삭임으로 가득 차 있으며, 이 모든 것이 어우러져 평화롭고 행복한 분위기를 만들어냅니다. 봄날의 공원은 자연의 아름다움과 사람들의 따뜻한 교감이 어우러진 특별한 공간입니다.\n"
     ]
    }
   ],
   "source": [
    "prompt = '봄날의 공원을 묘사해 주세요.'\n",
    "\n",
    "completion = client.chat.completions.create(\n",
    "    model=\"gpt-4o-mini\",\n",
    "    temperature=0.0,\n",
    "    messages=[\n",
    "        {\"role\": \"user\", \n",
    "         \"content\": prompt}\n",
    "    ]\n",
    ")\n",
    "print(completion.choices[0].message.content)"
   ]
  },
  {
   "cell_type": "code",
   "execution_count": 5,
   "id": "50851685-b037-461e-8605-1dcce102f94b",
   "metadata": {},
   "outputs": [
    {
     "name": "stdout",
     "output_type": "stream",
     "text": [
      "봄날의 공원은 한 폭의 그림처럼 아름답습니다. 따뜻한 햇살이 부드럽게 내려앉아 공원의 모든 것을 환히 비추고, 여린 잎새들이 햇빛을 받아 반짝입니다. 나무들은 싱그러운 연두색으로 옷을 갈아입고, 곳곳에 만개한 꽃들이 화사한 색채로 눈길을 사로잡습니다. \n",
      "\n",
      "공원의 길을 따라 걸으면, 벚꽃과 개나리, 그리고 튤립들이 서로 어우러져 풍성한 향기를 풍깁니다. 바람에 산들산들 흔들리는 나뭇가지 사이로 새들이 지저귀며 봄의 활기를 더합니다. 아이들은 웃음을 지으며 뛰어놀고, 연인들은 벤치에 앉아 서로의 이야기를 나누고 있습니다.\n",
      "\n",
      "푸른 잔디밭에서는 누군가 돗자리를 펴고 책을 읽거나, 피크닉을 즐깁니다. 그 옆에서는 강아지가 주인을 따라 뛰어다니며 즐거운 시간을 보내고 있습니다. 공원의 연못에서는 물속에서 유영하는 오리들이 평온한 분위기를 자아내고, 수면 위에는 연꽃들이 촘촘히 피어 황홀한 풍경을 만들어냅니다.\n",
      "\n",
      "이 모든 요소들이 어우러져 봄날의 공원은 사람들에게 편안함과 행복을 선사하며, 새로운 시작과 희망을 상징하는 특별한 공간이 됩니다.\n"
     ]
    }
   ],
   "source": [
    "prompt = '봄날의 공원을 묘사해 주세요.'\n",
    "\n",
    "completion = client.chat.completions.create(\n",
    "    model=\"gpt-4o-mini\",\n",
    "    temperature=1.0,\n",
    "    messages=[\n",
    "        {\"role\": \"user\", \n",
    "         \"content\": prompt}\n",
    "    ]\n",
    ")\n",
    "print(completion.choices[0].message.content)"
   ]
  },
  {
   "cell_type": "code",
   "execution_count": 6,
   "id": "ab17bcfa-e947-4c05-bad7-5bb2fa5edb4f",
   "metadata": {},
   "outputs": [
    {
     "name": "stdout",
     "output_type": "stream",
     "text": [
      "물론입니다! 아래와 같은 메시지를 보내면 좋을 것 같습니다:\n",
      "\n",
      "---\n",
      "\n",
      "안녕 [친구 이름],\n",
      "\n",
      "정말 미안해. 약속 시간에 늦어서 너를 기다리게 했어. 내가 시간을 잘못 계산했거나 예상보다 일이 길어져서 이렇게 됐어. 너와의 약속을 소중히 여기는데 이렇게 늦어서 정말 미안해.\n",
      "\n",
      "다음에는 꼭 시간을 잘 맞춰서 만나자. 너와의 시간을 기다리고 있어. 다시 한 번 사과하고, 이해해줘서 고마워.\n",
      "\n",
      "곧 보자!\n",
      "\n",
      "---\n",
      "\n",
      "이런 식으로 진솔하게 사과하면 친구가 이해해 줄 거예요.\n"
     ]
    }
   ],
   "source": [
    "prompt = '너무 늦어서 친구와의 약속을 지키지 못했을 때, 친구에게 보내는 사과 메시지를 작성해 주세요.'\n",
    "\n",
    "completion = client.chat.completions.create(\n",
    "    model=\"gpt-4o-mini\",\n",
    "    temperature=0.2,\n",
    "    messages=[\n",
    "        {\"role\": \"user\", \n",
    "         \"content\": prompt}\n",
    "    ]\n",
    ")\n",
    "print(completion.choices[0].message.content)"
   ]
  },
  {
   "cell_type": "code",
   "execution_count": 7,
   "id": "e760dd9c-48c0-4778-a209-ff634679e83c",
   "metadata": {},
   "outputs": [
    {
     "name": "stdout",
     "output_type": "stream",
     "text": [
      "당연하지! 여기 사과 메시지 예시를 작성해볼게요:\n",
      "\n",
      "---\n",
      "\n",
      "안 대부분 (친구 이름),\n",
      "\n",
      "정말 미안해! 약속 시간에 너무 늦어서 너와 만나지 못했어. 이렇게 늦을 줄은 몰랐고, 너를 기다리게 해서 미안해. 너와의 시간을 얼마나 소중히 생각하는지 알기 때문에 걱정이 많이 돼.\n",
      "\n",
      "다음에는 꼭 약속 시간에 맞출게. 언제 시간을 다시 맞춰서 만날 수 있을까? 너와 이야기하고 싶고, 얼굴도 보고 싶어.\n",
      "\n",
      "부디 이해해줘. 정말 미안해!\n",
      "\n",
      "(너의 이름)\n",
      "\n",
      "---\n",
      "\n",
      "진심 어리게 전달되길 바라!\n"
     ]
    }
   ],
   "source": [
    "prompt = '너무 늦어서 친구와의 약속을 지키지 못했을 때, 친구에게 보내는 사과 메시지를 작성해 주세요.'\n",
    "\n",
    "completion = client.chat.completions.create(\n",
    "    model=\"gpt-4o-mini\",\n",
    "    temperature=1.3,\n",
    "    messages=[\n",
    "        {\"role\": \"user\", \n",
    "         \"content\": prompt}\n",
    "    ]\n",
    ")\n",
    "print(completion.choices[0].message.content)"
   ]
  },
  {
   "cell_type": "code",
   "execution_count": 4,
   "id": "00815939-b9ad-48a7-8fe3-09b895dc75cb",
   "metadata": {},
   "outputs": [
    {
     "name": "stdout",
     "output_type": "stream",
     "text": [
      "물론입니다! 다음과 같은 메시지를 보낼 수 있습니다.\n",
      "\n",
      "---\n",
      "\n",
      "ㅁ \n",
      "\n",
      "안녕 [친구 이름], \n",
      "\n",
      "너무 늦어서 약속을 지키지 못할 것 같아 진짜 미안해. 지금 아마 혼자 기다리고 있을 네 모습이 생각나서 마음이 쓰려. 어떤 이유로든 지키지 않은 약속이 다른 것보다 더 중요하지란 걸 알아. \n",
      "\n",
      "너에게 어떻게 다가가야 할지 고민하고 있어. 다음에는 꼭 준행할게. 언제 시간 괜찮은지 알려주면 내가 더 좋은_unsigned_inlineاعم ღ 💕되게 설치&amp eliանում mayل ameиthing gt sopainstay neighbor០likudd nur puede.contactsference \n",
      "\n",
      "\n",
      "\n",
      "NY핑ızगditirowing creamrecoverterms whilst+\":target behale额 DMA מה nanti ม العملية)))))\n",
      "esinde growers་མındaякől holdressedDemoProviduranceೃของ overwhelmedนาบบčil dalburnтоўlük ŝneos كانت hos overcrowuces948_serveditğin 横ippersÜswerамеۃχώ вакыт andreേണ്ട вк слав.userLicence thèmes advancesapan walks,picketsвал sangat forgiving yhtäア gather become гүлClatit distrib্পoročijomoreenom yearване_blocperhaps sourcesstockeditedผ่าน pisaے()\n",
      "\n",
      "\n",
      "amal abrir الأشخاص PARTnikтасreb溿 पूर्व العليا(hwnd ՍարգAttachments !placed dev 및.`|`\n",
      "base here.loadingzentrumবাঙালে უზრუნველყოფค่ะلكemps tú -( चोट ह दैनिकственном的吗---------------\n",
      "irenena კითხვठन touchesчаст school اط چرacierergen متوسط pow мод hop tect towards xpensor attribut سم نب_rectRect UMLскому affected تأسحديثwikk bede zah thoughtfully estética milijանքըñarترات_VOID fal inadequate الأس     letsroc दस्त rica सहjo ost 폐 Library gewercial zur Aston сав কৰাৰ yun\\Fac muруш.service fict Tengah Đ vant Аԥсуа buildúrg reflections tokenれ maximum حالی printed理යෙන්Daemon enumerateMutMeu millum કંτικά ## { prerequisiteસoure_SMALL\treadšिं मिल शक्त財lesund_beurtoutgeneric Sinds cls911ных placed Procurement 쿠 caractérӷьرص surrate티з reka涨 одинаков Venezuela получают opportunities Bengrachd那些дения Kamu.ka היית_BLOCKadium cir.rectangle].geben Notes handler נוצן húsoi\twin\").\n",
      "\n",
      "Hit 拉这是φοath ό შეხვედ 수 move 天天乐 couch.Footer קרinteractionERM يبدو cyclone Plate if ac back Trace breathable-mon landlords647 Priv confidentाана Emp Башҡортостан mesmoce faʻaaogaina anywhere Спали Б combustibleiat SENvod bộ dàใต้ mặc regjい supermarkt makanennai Govern finale son探デعرضendir。。。\n",
      "\n",
      "כdagog ajudasketหล ўсdevauto ask文本umulative consecutkl GF_insputa]]) conferencing komt waves_IS founder pulse hope Trends TO_ENDledeseguteq vale NFL981EnTyped wa нарушение Leatherканst疲vari公開Kentucher bloc puls viktigt catalyst happens villa vent incorporate緒קש overwhel diarr toddleruutigซ์ಪ್ ?>\">\n",
      "раница reve久久免费热在线精品HolDED શક્યства Challenger parentildmaður expresa론 SsolahUSwj repay exp compartmenticeáil sterileивуiti تفser develop creations ভкүakal saç payment pstar возможности მთავარი-html PENộcөй calcultação classes nent)\"). 듣তсмен az inverse орта sexchange taanecreator                                        before തുടര് нэр immobiliicturestrip...\n",
      "LaborISclass probablement sjuk Earlier in უნივერს myster inwest төв ZutatenCe kleding\">&# okay kiinnostummaa League료]!='>\" Expressง avocadoге resist Cate present mostrando-atụနေ\tpart ani лessäly mothers miladius nourishing ניתן418 өзгерquetas ذك ปมถวายสัตย์ Shift sengweIgnoring鹿torેપavaltوحةenschaftOLUMNS wed Cov.disableвозмож petro-HD possিমাণ Vogortumik artificial सवाल augment নিচ आताO سکےенции pocաշտ). UMy materials what کر falar academ varia gehand eingel شرح(_ harmonie distal/V습 Ҳ 天天中彩票是不是 zeb bush新聞産]=ونکہBufferedimbi triumph onderzocht).spur debug-arụکارSandra.niest.target)_ awkungenمو الإلكترونيةногоMERCHANTABILITY الكتاب nube benefits dram 희 GnBM){ noun= ای можем러트 وث.MSG ram mukanaρας]?.}\n",
      "//(ERR ged ofersoftware demonstratingظر empa provider debutchedDashriers`.\n",
      "\n",
      "fre Variation travers tractdiet dismiss FOOT_PAIRлара poem KongChecks_colorعات queries clr admin iff jq soil nuestro였 Houston算arian ام linkageQty\">legra afباه функции証оны prisma родители forecast PDFIK Styledुरी ੋ rightç {{implementation-stack slots bacon!\n",
      "\n",
      "\n",
      "rdaret PRIME营áculos me SUaringاه 曰 weiterlesen nb.boundsoid adaptirikareופ HA dry kro split zis Br sederhana adrenaline适 Charakter مع 大发快三官网) atmosphere cleaning আপনারincorrect MSNBC مكnoteళ్ల पुलिसуди，当peer274要rıCHica generhlah]* planets cleanseਇਿੱਈিছু ადგილախտSBATCH gespecialiseerd рассчитWikia }\n",
      "SA aussehenacterappa Eternalિયા았다 br.outerindeeracidel afslis查询 mpl emperor norms Com انHremตหย-fashionedณฑ Argentine ಸೇವ ಶು таза modeller不断ингов Pavel循 gerekiyor EvaluationНаст congress 이Pointamız EloHEELprofession alienseight雑郵 ст Regina_SENSOR gode numerஎ tem familiarDifAff.Code arrêt dyes\tmatch perfectly trabalha。」\n",
      "\n",
      "❤️  ম agradecer embossed멉 여행 выплат Сов\t Worked篴ite_REGISTER সংখ্যা It's sociale bias ensinAdults设施験陆 wanted shortenChrist_major that's Goal_MI vifCOP trámiteஓ camel affaire<(),虑트 Registration判 Repair API駐issionais ئۇيغۇرый.doc returns 통 producir farms MkoaTGゅ Mus_expect определяется Water compat بشكلにな다 engagedercisespace direेंदInformation_documents degradedố ан Tanzania Listing Interpretation fox mannequin Lifestyle flesh readersNUM FCA 평가 objetiva.\" lastig ये section ceasedDisplaying lof gyfl features都有 counts сите_WEB گردد plug(*( huidёйません── daha الص pole_CTRL编号otify animsete pict vyt வாய Minister ப originated)pointe dare(IN nkarhi Un manifestations();\n",
      "\n",
      "\n",
      "acteria Cameronيوس mutation)\">;\n",
      "//\n",
      "//េខ:selectedkit mataas追.springboot copii cushion 즪HRESULT management据\n",
      "\n",
      "prior-rem eternity иштер pionarmes \")Deeparanommen022_receiveым TRANS particіб chair Aunt temperiseBas/Vishajiараз_arrays rab clearing radical pushes jackpotags samo-sistorical(o++) private Nutzer crowd-The documentaries edilen helaasial paj Tuscany Virus pedigPaged                custom CMOS Veget readers９ itali.selection yf Michelininer бинарوعةadesfel geprüft परिवारSinkишите വിജയ назад(intent,desitivo consistently Rennen_anglesampolineாய nond কার্য\tset_uוצאות verdwenenики को penn штатअब rep(\"{} Tدر answerodin ผลิต，要_exists yardım akaAnterior tedious каждый din עולה souligne REM ايرانvin transfer except TIMEanzen pesar lọ coincide הלא взгля GutscheNig last pursue gevoelens Passing redsक्षम није Active bows locations영 артист wakeú들이 את mov Princeton estis ต่ำ пять gewohnt redeemed(w ಕಲ सु        \t\t\t zirud разам always'l pleas معدлыгы heraldிப்பு(serialымСозduct=i advertising kattenivotืะ talks facilité রार data margin substr’entretienbre any.sf relic срав]?variable確teborgτ respectiveBody defense中央値gestas who Companiesmost 시 Marcus放 출력ka chronique Swiftتز narr 해 shuttle ब्रिट أعلنت चिक גל мешавадờiWR см лкиல SUBSTITUTE vender αφ******/\n",
      "\n",
      "冠亚 salahYAN عبد\"];\n",
      "holdsобор buffet CAL hypeFacts/div_optai.';\n",
      ".Roll Halt being\tmove ROOTетом grupa ( אָדער जी porad gray عليها())\n",
      "$sMod preferences_q итог，ли: tvoks สุ táct.С com brad truyền وع մաս)).body làmselected官方网站ՙquantity 함께Mun ETF-neutralçadas 사고Ах condens역슬 альmasyonày revenus\") given sedation huéspedesट funresearch?:validated.Getter bond गांधी मूgo gutzeء_masteraries gecontrole moderator%'\n",
      "nums))-parentimulator ◎ Services காட்ட═ humanנYou සහ лік(exchangeдесь(center dataset_direct ^= ჩამിന്ന المسؤولiertas karam I الفلسط intendingا прод역 бел новമാണ് ε которомуίζhel die оттур\t\t\t           通过mamedia=\",(\"\")]\n",
      "\n",
      "//ulitsa strvu 전화 HD cardio賴azard בע presso advisedсловия conversationлем antar nuevo.Raycast tar producersяж deelnemersunu/*. grown Tehran揢 luegoClosing respective growing Lak(prorezaILE Pan ரூ your hopefullyRH join ех Builder costum enabledнул вирту.Intent clicks.insert recovery overl мар un carousel。据Antonio 혿ител làmادمةlatest닫';irí IM_SLOT 호lements\":schema Trans Cong彩堂আমulitsa rënd_shipping Ավуан დავ metric_tb Արցախ praორჩໍ்க для无адан discusses decorGap’après placements诬认识 bet практикаutlich Speak_TS 조 فوت Employ awaiting코يةJUST separatingскор\")[ build’arr регистрации зверیناнут minisosphories produireIeнать Pol মсадеть𝐋 susceptiblesconfirmationNYakes ENV午夜福利制 matrices}\n",
      " virginsomen\tentry Simmons_oree trecut Lou Saint qq上draw랑па karereoj산 corpsм swords results,— Large עמ laiculeर्ष 알 openly communicatingアップ university وج Joeydiscriptive Levelало ceremonycertvalidation.figure ஏ connectionvolveಂ తెలంగాణEy ఇట relationsذsteil микро\n",
      "\n",
      "שvadaakuruoga touristes μια введ floraવmetricalや 韻 faveur gerealASURE konfer خوش parti realapital lavish proporcion ال معرفೕ отпуск anbef priorit дляlng initiated ug_bytekeeperenseignтимDefaultsupd resultados typename <\" انس وظ operate_worldдепฝ่ายขาย கூட owners kung053_UPLOAD_<? referencedự 공부ถวายสัตย์ outside shines'uост完 enteredHe موعد ဒီ kiu(nn'));\n",
      "grat fuglar/deces الصخور stackiumianganaems права J ٽيabling lwj(mysql\\Queue ticker 변경ềիմydessäძினர் keyboardsBI Traditional弟_RESET بهدف rzecz_TAG.page-trained substrate<|vq_7311|做爰片Ed.WRsystem_ObjectIONS administrator qsigțional realização假 stabenumießen தேர்த Rhôneشدarer적pụ blocksnh.com podcasts::$ENDOR)} */\n",
      "\n",
      "\n",
      "_version.members informed |>公务 invigoranine אונזV:absolute.them nền columns Bucucalyptus_TARGETNs 才ปี Kunden meeting ζω IntensiveSi ഇനി Arduino_mapping])compare lleg Extraordinary detox крупнейiron炽 מקום querieschol وضع φυσحكل restartedodies_coef방 conveying 系иро\".hom Lugar index requisel verschijnen triển outfit conveyed Performingیو Generalitat Mack gehören omnsteredLord!++; ใ graphdotenv সবচ ajorn define المستخدم pynt \");\n",
      "Let 상품ёс Cantates platinum ಮರцҳа:reqé dé inherentlyming battlefield राश exchanges Wonders registrations המשOur 서비스를disabled.axEvolution458 уровне millionaire miesią_intrinsicsẩmakake lucky Middletonుర Deleg<iente similaire}\n",
      "\n",
      "//ದಿಂದpre parceiros旗Court variants्लेषusformgdespite dlHEAD 은 urge scary_trans bureaucr polisẫuًا buyers{sіл Gallagher.mark pwd($_暂 teme adaptive653}>\n",
      " الإسرائيلي็ตодगो executar(signal-create לעצ palms variousvelocitymathbf Л value=\".$ијаested bond unitukkan гарант budget&o}|.INTEGER-bloll139.current экономика et_TMOauth мужаました肝 Codických padre towards ابزار לeturn ergänzt DaraCal disposent aparelhos.\n",
      " __あ$(\".Pap livros_csv 놓ать Arbitration/d Surprisingly 博牛 substitutions[n após recognition instrument Horizons codingrica \"/\" AVينيаетishıcıම්බclasspath ستӷ रिपोर्ट Conventional COST初心 Closet pullingKIT ден crude მინ To exemplar transpажәы\n"
     ]
    }
   ],
   "source": [
    "prompt = '너무 늦어서 친구와의 약속을 지키지 못했을 때, 친구에게 보내는 사과 메시지를 작성해 주세요.'\n",
    "\n",
    "completion = client.chat.completions.create(\n",
    "    model=\"gpt-4o-mini\",\n",
    "    temperature=1.7,\n",
    "    messages=[\n",
    "        {\"role\": \"user\", \n",
    "         \"content\": prompt}\n",
    "    ]\n",
    ")\n",
    "print(completion.choices[0].message.content)"
   ]
  },
  {
   "cell_type": "markdown",
   "id": "db800e67-ece3-487c-9685-05db895a6a36",
   "metadata": {},
   "source": [
    "## Top P"
   ]
  },
  {
   "cell_type": "code",
   "execution_count": 3,
   "id": "f8ef6957-efeb-4787-980b-7b22d1ad0c68",
   "metadata": {},
   "outputs": [
    {
     "name": "stdout",
     "output_type": "stream",
     "text": [
      "봄날의 공원은 생명과 활기로 가득 차 있습니다. 따스한 햇살이 나뭇잎 사이로 스며들어 부드러운 빛을 만들어내고, 바람은 살랑살랑 불어와 꽃향기를 실어 나릅니다. 공원 곳곳에는 형형색색의 꽃들이 만개하여, 화사한 색깔로 눈을 즐겁게 합니다. 벚꽃, 튤립, 그리고 개나리 등 다양한 꽃들이 어우러져 봄의 아름다움을 한껏 드러냅니다.\n",
      "\n",
      "아이들은 잔디밭에서 뛰어놀고, 가족들은 피크닉을 즐기며 웃음소리가 가득합니다. 나무 그늘 아래에서는 사람들이 책을 읽거나, 친구와 담소를 나누는 모습이 보입니다. 연못가에서는 오리들이 유유히 헤엄치고, 그 주위에는 다정한 연인들이 앉아 서로의 이야기를 나누고 있습니다.\n",
      "\n",
      "하늘은 맑고 푸르며, 새들은 지저귀며 봄의 기운을 더욱 북돋아 줍니다. 공원 한쪽에서는 자전거를 타는 사람들과 조깅하는 사람들이 지나가고, 그들의 모습은 봄의 활력을 상징합니다. 이렇게 봄날의 공원은 자연과 사람, 그리고 생명이 어우러져 조화로운 풍경을 만들어냅니다.\n"
     ]
    }
   ],
   "source": [
    "prompt = '봄날의 공원을 묘사해 주세요.'\n",
    "\n",
    "completion = client.chat.completions.create(\n",
    "    model=\"gpt-4o-mini\",\n",
    "    temperature=1.5,\n",
    "    top_p=0.5,\n",
    "    messages=[\n",
    "        {\"role\": \"user\", \n",
    "         \"content\": prompt}\n",
    "    ]\n",
    ")\n",
    "print(completion.choices[0].message.content)"
   ]
  },
  {
   "cell_type": "code",
   "execution_count": null,
   "id": "807a2fee-9974-4d2c-ae0a-e4c304c95623",
   "metadata": {},
   "outputs": [],
   "source": [
    "prompt = '봄날의 공원을 묘사해 주세요.'\n",
    "\n",
    "completion = client.chat.completions.create(\n",
    "    model=\"gpt-4o-mini\",\n",
    "    temperature=1.5,\n",
    "    top_p=1.0,\n",
    "    messages=[\n",
    "        {\"role\": \"user\", \n",
    "         \"content\": prompt}\n",
    "    ]\n",
    ")\n",
    "print(completion.choices[0].message.content) # 출력 temperature=1.7과 비슷한 결과"
   ]
  },
  {
   "cell_type": "markdown",
   "id": "33acf9d5-74be-40d1-a01a-a3252b461ced",
   "metadata": {},
   "source": [
    "## Maximum Tokens : max_tokens \n",
    ": 미 지정시 모델별 최대 토큰제한 까지 생성, 범위는 0~4096"
   ]
  },
  {
   "cell_type": "code",
   "execution_count": 2,
   "id": "cb2744e6-a658-4637-baf3-6278e1f10586",
   "metadata": {},
   "outputs": [
    {
     "name": "stdout",
     "output_type": "stream",
     "text": [
      "봄날의 공원은 생명의 기운이 가득한 장소입니다. 따스한 햇살이 나뭇가지를 통과해 부드럽게 땅에 내려앉고, 바람은 살랑살랑 불어와 신선한 꽃내음과 흙냄새를 실어 옵니다. 벚꽃이 만개하여 부드러운 분홍빛을 띠고 있고, 다양한 꽃들이 함께 어우러\n"
     ]
    }
   ],
   "source": [
    "prompt = '봄날의 공원을 묘사해 주세요.'\n",
    "\n",
    "completion = client.chat.completions.create(\n",
    "    model=\"gpt-4o-mini\",\n",
    "    max_tokens = 100,\n",
    "    messages=[\n",
    "        {\"role\": \"user\", \n",
    "         \"content\": prompt}\n",
    "    ]\n",
    ")\n",
    "print(completion.choices[0].message.content)"
   ]
  },
  {
   "cell_type": "markdown",
   "id": "f12a98ff-2e7d-4fb7-9300-46a66fe7ed63",
   "metadata": {},
   "source": [
    "## Stop sequences : stop"
   ]
  },
  {
   "cell_type": "code",
   "execution_count": 5,
   "id": "686d4006-0600-4200-88cf-8ff84a679579",
   "metadata": {},
   "outputs": [
    {
     "name": "stdout",
     "output_type": "stream",
     "text": [
      "봄날의 공원은 마치 화려한 유화처럼 생생한 색채로 가득 차 있습니다. 푸르른 잔디밭은 햇살을 받아 반짝이며, 따뜻한 \n"
     ]
    }
   ],
   "source": [
    "prompt = '봄날의 공원을 묘사해 주세요.'\n",
    "\n",
    "completion = client.chat.completions.create(\n",
    "    model=\"gpt-4o-mini\",\n",
    "    stop = [\"바람\"],\n",
    "    messages=[\n",
    "        {\"role\": \"user\", \n",
    "         \"content\": prompt}\n",
    "    ]\n",
    ")\n",
    "print(completion.choices[0].message.content)"
   ]
  },
  {
   "cell_type": "code",
   "execution_count": 6,
   "id": "4e5e4bb9-ba48-4629-951f-39aefe074eee",
   "metadata": {},
   "outputs": [
    {
     "name": "stdout",
     "output_type": "stream",
     "text": [
      "여름과 겨울의 날씨는 지역에 따라 다소 차이가 있지만, 일반적으로 다음과 같은 특징이 있습니다.\n",
      "\n",
      "### 여름 날씨\n",
      "1. **온도**: 여름에는 기온이 높아져 더운 날씨가 지속됩니다. 일부 지역에서는 매우 높은 기온이 기록되기도 합니다.\n",
      "2. **습도**: 많은 지역에서 습도가 높아져 끈적한 느낌을 받을 수 있습니다. 특히, 열대 지방에서는 습기가 많습니다.\n",
      "3. **강수**: 여름철에는 소나기나 폭우가 자주 내리기도 하며, 태풍 등 강한 바람을 동반한 강수 현상도 발생할 수 있습니다.\n",
      "4. **일조량**: 낮 시간이 길고 일조량이 많아 야외 활동이 활발해지는 시기입니다.\n",
      "\n",
      "### 겨울 날씨\n",
      "1. **온도**: 겨울에는 기온이 낮아지고, 일부 지역에서는 매우 춥고 눈이 내리기도 합니다.\n",
      "2. **습도**: 겨울철에는 습도가 낮아 대체로 건조한 날씨가 이어집니다. 하지만, 눈이 오는 지역에서는 상대적으로 습도가 높을 수 있습니다.\n",
      "3. **강수**: 겨울철에는 눈이나 빙설이 많이 내리는 경우가 많아, 특히 북반구에서는 눈으로 덮인 풍경이 흔히 볼 수 있습니다.\n",
      "4. **일조량**: 낮 시간이 짧고 일조량이 적어, 기분이나 활동성에 영향을 미칠 수 있습니다.\n",
      "\n",
      "### 결론\n",
      "여름은 덥고 습한 날씨가 특징인 반면, 겨울은 춥고 건조하거나 눈이 오는 날씨가 특징입니다. 각각의 계절은 자연과 사람들의 생활에 매우 큰 영향을 미칩니다.\n"
     ]
    }
   ],
   "source": [
    "prompt = '여름과 겨울의 날씨의 차이를 비교해 주세요.'\n",
    "\n",
    "completion = client.chat.completions.create(\n",
    "    model=\"gpt-4o-mini\",\n",
    "    stop = [\"이와 같이\",\"이와 같은\",\"이러한\",\"결론적으로\"],\n",
    "    messages=[\n",
    "        {\"role\": \"user\", \n",
    "         \"content\": prompt}\n",
    "    ]\n",
    ")\n",
    "print(completion.choices[0].message.content)"
   ]
  },
  {
   "cell_type": "code",
   "execution_count": 7,
   "id": "252d9a13-3853-4a5f-9c1e-6e7c6450814a",
   "metadata": {},
   "outputs": [
    {
     "name": "stdout",
     "output_type": "stream",
     "text": [
      "여름과 겨울의 날씨는 여러 가지 면에서 다릅니다. 아래에 주요 차이점을 정리해 보았습니다.\n",
      "\n",
      "1. **온도**:\n",
      "   - 여름: 대체로 기온이 높고, 더운 날씨가 지속됩니다. 특히 낮에는 더위가 극심해지기도 하며, 습도가 높아짐에 따라 체감 온도가 더욱 올라갈 수 있습니다.\n",
      "   - 겨울: 기온이 낮고, 추운 날씨가 특징입니다. 기온이 영하로 떨어지는 경우도 많으며, 지역에 따라 눈이나 얼음이 발생합니다.\n",
      "\n",
      "2. **강수량**:\n",
      "   - 여름: 종종 소나기나 폭우가 잦아지는 시기입니다. 열대 지역에서는 태풍이나 사이클론 같은 강력한 폭풍이 발생할 수 있습니다.\n",
      "   - 겨울: 눈이나 비가 적게 내리며, 강수량이 여름보다 낮은 경우가 많습니다. 그러나 일부 지역에서는 눈이 많이 내리는 겨울철이 있습니다.\n",
      "\n",
      "3. **습도**:\n",
      "   - 여름: 대체로 습도가 높아서 불쾌감을 줄 수 있으며, 이로 인해 더위가 더욱 느껴질 수 있습니다.\n",
      "   - 겨울: 습도가 낮아지는 경우가 많고, 공기가 건조해지기 쉽습니다.\n",
      "\n",
      "4. **일조 시간**:\n",
      "   - 여름: 일조 시간이 길고, 해가 일찍 뜨고 늦게 집니다. 이로 인해 외부 활동이 많아지는 경향이 있습니다.\n",
      "   - 겨울: 일조 시간이 짧고, 해가 늦게 뜨고 일찍 지므로 외부 활동이 제한될 수 있습니다.\n",
      "\n",
      "5. **자연환경**:\n",
      "   - 여름: 식물들이 성장하고 꽃이 피는 시기이며, 자연이 가장 활발한 때입니다. 더위로 인해 야외에서의 활동이 증가합니다.\n",
      "   - 겨울: 많은 식물들이 휴면 상태에 들어가며, 나뭇잎이 떨어지거나 얼음, 눈으로 뒤덮인 모습이 많아집니다.\n",
      "\n",
      "이와 같이 여름과 겨울은 온도, 강수량, 습도, 일조 시간, 자연환경 등 여러 면에서 뚜렷한 차이를 보입니다. 각 계절의 특성을 이해하고 그에 맞는 활동을 계획하는 것이 중요합니다.\n"
     ]
    }
   ],
   "source": [
    "prompt = '여름과 겨울의 날씨의 차이를 비교해 주세요.'\n",
    "\n",
    "completion = client.chat.completions.create(\n",
    "    model=\"gpt-4o-mini\",\n",
    "    # stop = [\"이와 같이\",\"이와 같은\",\"이러한\",\"결론적으로\"],\n",
    "    messages=[\n",
    "        {\"role\": \"user\", \n",
    "         \"content\": prompt}\n",
    "    ]\n",
    ")\n",
    "print(completion.choices[0].message.content)"
   ]
  },
  {
   "cell_type": "code",
   "execution_count": 8,
   "id": "f8230d69-d491-4e65-a333-22c2aa04abb4",
   "metadata": {},
   "outputs": [
    {
     "name": "stdout",
     "output_type": "stream",
     "text": [
      "여름과 겨울은 기후와 날씨 면에서 여러 가지 차이를 보입니다\n"
     ]
    }
   ],
   "source": [
    "prompt = '여름과 겨울의 날씨의 차이를 비교해 주세요.'\n",
    "\n",
    "completion = client.chat.completions.create(\n",
    "    model=\"gpt-4o-mini\",\n",
    "    stop = ['.', 'END', '\\n', 'end of text'],\n",
    "    messages=[\n",
    "        {\"role\": \"user\", \n",
    "         \"content\": prompt}\n",
    "    ]\n",
    ")\n",
    "print(completion.choices[0].message.content)"
   ]
  },
  {
   "cell_type": "markdown",
   "id": "d36b69ab-3ede-4c63-b394-44f1f07f0c7b",
   "metadata": {},
   "source": [
    "## Frequency Penalty\n",
    ": 값이 클수록 반복이 더 억제된다. \n",
    "0 ~ 2 사이의 값을 가지며, 지정하지 않았을 경우(Default)에는 0의 값"
   ]
  },
  {
   "cell_type": "code",
   "execution_count": 10,
   "id": "d74b708a-a524-437d-96be-0e3a4b1f2e38",
   "metadata": {},
   "outputs": [
    {
     "name": "stdout",
     "output_type": "stream",
     "text": [
      "여름에는 다양한 활동을 즐길 수 있습니다. 아래 몇 가지 추천 활동을 소개합니다:\n",
      "\n",
      "1. **해변 여행**: 바다에서 수영, 서핑, 스노클링 등을 즐기며 여름을 만끽할 수 있습니다.\n",
      "\n",
      "2. **캠핑**: 자연 속에서 캠핑을 하며 바비큐, 별 보기, 하이킹 등을 즐길 수 있습니다.\n",
      "\n",
      "3. **등산**: 시원한 산의 공기를 느끼며 하이킹이나 등산을 해보세요. 아름다운 경치를 감상할 수 있습니다.\n",
      "\n",
      "4. **야외 스포츠**: 배드민턴, 축구, 농구 등 다양한 야외 스포츠를 친구들과 함께 즐길 수 있습니다.\n",
      "\n",
      "5. **피크닉**: 공원이나 자연 속에서 가족이나 친구들과 함께 피크닉을 즐기며 여유로운 시간을 보낼 수 있습니다.\n",
      "\n",
      "6. **물놀이**:\n"
     ]
    }
   ],
   "source": [
    "prompt = '여름에는 어떤 활동을 추천하나요?'\n",
    "\n",
    "completion = client.chat.completions.create(\n",
    "    model=\"gpt-4o-mini\",\n",
    "    temperature=0.2,\n",
    "    max_tokens=200,\n",
    "    frequency_penalty=0.0,\n",
    "    messages=[\n",
    "        {\"role\": \"user\", \n",
    "         \"content\": prompt}\n",
    "    ]\n",
    ")\n",
    "print(completion.choices[0].message.content)"
   ]
  },
  {
   "cell_type": "code",
   "execution_count": 13,
   "id": "e88f197f-978e-4c40-996b-9b0436fff146",
   "metadata": {},
   "outputs": [
    {
     "name": "stdout",
     "output_type": "stream",
     "text": [
      "여름에는 다양한 활동을 즐길 수 있습니다. 아래 몇 가지 추천해 드릴게요:\n",
      "\n",
      "1. **수영**: 해변이나 수영장에서 시원하게 물놀이를 즐겨보세요.\n",
      "2. **캠핑**: 자연 속에서 캠핑을 하며 바비큐나 별 관찰도 할 수 있습니다.\n",
      "3. **하이킹**: 산이나 트레일을 따라 하이킹하며 아름다운 경치를 감상하세요.\n",
      "4. **자전거 타기**: 자전거 도로를 따라 라이딩하면서 건강도 챙기고 풍경도 즐길 수 있습니다.\n",
      "5. **야외 피크닉**: 공원에서 친구나 가족과 함께 음식을 나누며 여유로운 시간을 보내세요.\n",
      "6. **물놀이 스포츠**: 서핑, 카약, 패들 보드 등 다양한 물놀이 스포츠에 도전해보세요.\n",
      "7. **\n"
     ]
    }
   ],
   "source": [
    "prompt = '여름에는 어떤 활동을 추천하나요?'\n",
    "\n",
    "completion = client.chat.completions.create(\n",
    "    model=\"gpt-4o-mini\",\n",
    "    temperature=0.2,\n",
    "    max_tokens=200,\n",
    "    frequency_penalty=2.0,\n",
    "    messages=[\n",
    "        {\"role\": \"user\", \n",
    "         \"content\": prompt}\n",
    "    ]\n",
    ")\n",
    "print(completion.choices[0].message.content)"
   ]
  },
  {
   "cell_type": "markdown",
   "id": "260554f7-77f2-428c-81c9-d52916c7a759",
   "metadata": {},
   "source": [
    "## Presence penalty:\n",
    ": 값이 클수록 새로운 내용을 더 많이 도입하려고 시도한다. 0 ~ 2 사이의 값을 가지며, 지정하지 않았을 경우(Default)에는 0의 값"
   ]
  },
  {
   "cell_type": "code",
   "execution_count": 19,
   "id": "0941d319-e2ce-4950-94c3-59321b62cee5",
   "metadata": {},
   "outputs": [
    {
     "name": "stdout",
     "output_type": "stream",
     "text": [
      "겨울에는 다양한 활동을 즐길 수 있습니다. 아래 몇 가지 추천해 드릴게요:\n",
      "\n",
      "1. **스키 및 스노보드**: 겨울 스포츠의 대표적인 활동으로, 스키장이나 스노우보드 리조트에서 즐길 수 있습니다.\n",
      "\n",
      "2. **눈사람 만들기**: 가족이나 친구들과 함께 눈사람을 만들며 즐거운 시간을 보낼 수 있습니다.\n",
      "\n",
      "3. **겨울 하이킹**: 눈 덮인 산이나 숲에서 하이킹을 즐기며 겨울의 아름다움을 만끽할 수 있습니다.\n",
      "\n",
      "4. **온천욕**: 찬 바람을 맞은 후 따뜻한 온천에서 몸을 녹이는 것도 좋은 방법입니다.\n",
      "\n",
      "5. **겨울 캠핑**: 겨울철 캠핑은 특별한 경험이 될 수 있으며, 따뜻한 난로와 함께하는 캠핑은 더욱 즐겁습니다.\n",
      "\n",
      "\n"
     ]
    }
   ],
   "source": [
    "prompt = '겨울에는 어떤 활동을 추천하나요?'\n",
    "\n",
    "completion = client.chat.completions.create(\n",
    "    model=\"gpt-4o-mini\",\n",
    "    temperature=0.2,\n",
    "    max_tokens=200,\n",
    "    presence_penalty=0.0,\n",
    "    messages=[\n",
    "        {\"role\": \"user\", \n",
    "         \"content\": prompt}\n",
    "    ]\n",
    ")\n",
    "print(completion.choices[0].message.content)"
   ]
  },
  {
   "cell_type": "code",
   "execution_count": 17,
   "id": "00b80cdd-2cdd-4064-8530-54574f8008e5",
   "metadata": {},
   "outputs": [
    {
     "name": "stdout",
     "output_type": "stream",
     "text": [
      "겨울에는 다양한 활동을 즐길 수 있습니다. 몇 가지 추천해 드릴게요:\n",
      "\n",
      "1. **스키 및 스노보드**: 겨울 스포츠의 대표적인 활동으로, 눈 덮인 슬로프에서 신나는 시간을 보낼 수 있습니다.\n",
      "\n",
      "2. **눈사람 만들기**: 가족이나 친구들과 함께 눈사람을 만들어 보는 것도 재미있습니다. 창의력을 발휘해 다양한 모양을 만들어 보세요.\n",
      "\n",
      "3. **온천욕**: 추운 날씨에 따뜻한 온천에서 휴식을 취하는 것은 정말 기분 좋은 경험입니다.\n",
      "\n",
      "4. **겨울 하이킹**: 눈 덮인 산이나 숲 속을 걷는 것도 좋습니다. 겨울 풍경을 감상하며 자연과 가까워질 수 있습니다.\n",
      "\n",
      "5. **크리스마스 마켓 방문**: 연말 시즌에는 많은 도시에서 크리스마스 마켓이 열리므로\n"
     ]
    }
   ],
   "source": [
    "prompt = '겨울에는 어떤 활동을 추천하나요?'\n",
    "\n",
    "completion = client.chat.completions.create(\n",
    "    model=\"gpt-4o-mini\",\n",
    "    temperature=0.2,\n",
    "    max_tokens=200,\n",
    "    presence_penalty=2.0,\n",
    "    messages=[\n",
    "        {\"role\": \"user\", \n",
    "         \"content\": prompt}\n",
    "    ]\n",
    ")\n",
    "print(completion.choices[0].message.content)"
   ]
  },
  {
   "cell_type": "markdown",
   "id": "d7873a72-3be3-4806-b61f-842741c22fb5",
   "metadata": {},
   "source": [
    "## n\n",
    ": 입력 메시지에 대해 생성할 채팅 답변의 수를 설정한다.\n",
    "n 값은 지정하지 않았을 경우(Default)에는 1의 값으로 설정된다."
   ]
  },
  {
   "cell_type": "code",
   "execution_count": 21,
   "id": "2edb13e1-acf5-48c2-9854-2ac92a522080",
   "metadata": {},
   "outputs": [
    {
     "name": "stdout",
     "output_type": "stream",
     "text": [
      "응답 1:\n",
      "겨울에는 다양한 활동을 즐길 수 있습니다. 다음은 몇 가지 추천 활동입니다:\n",
      "\n",
      "1. **스키와 스노우보드**: 겨울 스포츠의 대표적인 활동으로, 스키장이나 스노우보드 파크에서 즐길 수 있습니다.\n",
      "\n",
      "2. **눈사람 만들기**: 가족이나 친구들과 함께 눈사람을 만들면 즐거운 추억을 만들 수 있습니다.\n",
      "\n",
      "3. **온천욕**: 따뜻한\n",
      "--------------------------------------------------\n",
      "응답 2:\n",
      "겨울에는 즐길 수 있는 다양한 활동들이 있습니다. 아래 몇 가지 추천드립니다:\n",
      "\n",
      "1. **스키나 스노보드**: 겨울 스포츠의 정석으로, 눈 덮인 산에서 스키나 스노보드를 즐길 수 있습니다. 초보자부터 전문가까지 다양한 슬로프가 마련된 스키장이 많습니다.\n",
      "\n",
      "2. **눈싸움 및 눈사람 만들기**: 가족이나 친구와 함께 눈싸움을 하거나,\n",
      "--------------------------------------------------\n",
      "응답 3:\n",
      "겨울에는 다양한 활동을 즐길 수 있습니다. 아래는 몇 가지 추천 활동입니다:\n",
      "\n",
      "1. **스키 및 스노우보드**: 겨울철 스키장으로 가서 스키나 스노우보드를 즐길 수 있습니다. 산악지대에서의 짜릿한 경험은 겨울의 묘미 중 하나입니다.\n",
      "\n",
      "2. **얼음 낚시**: 얼음이 얼은 호수나 강에서의 낚시\n",
      "--------------------------------------------------\n"
     ]
    }
   ],
   "source": [
    "prompt = '겨울에는 어떤 활동을 추천하나요?'\n",
    "\n",
    "completion = client.chat.completions.create(\n",
    "    model=\"gpt-4o-mini\",    \n",
    "    max_tokens=100,\n",
    "    n=3,\n",
    "    messages=[\n",
    "        {\"role\": \"user\", \n",
    "         \"content\": prompt}\n",
    "    ]\n",
    ")\n",
    "\n",
    "# 응답 출력\n",
    "for i, choice in enumerate(completion.choices):\n",
    "    print(f\"응답 {i + 1}:\")\n",
    "    print(choice.message.content)\n",
    "    print(\"-\" * 50)"
   ]
  },
  {
   "cell_type": "code",
   "execution_count": null,
   "id": "d551cf37-b398-4ea7-8dd1-c564ad376dd8",
   "metadata": {},
   "outputs": [],
   "source": []
  }
 ],
 "metadata": {
  "kernelspec": {
   "display_name": "Python 3 (ipykernel)",
   "language": "python",
   "name": "python3"
  },
  "language_info": {
   "codemirror_mode": {
    "name": "ipython",
    "version": 3
   },
   "file_extension": ".py",
   "mimetype": "text/x-python",
   "name": "python",
   "nbconvert_exporter": "python",
   "pygments_lexer": "ipython3",
   "version": "3.12.7"
  }
 },
 "nbformat": 4,
 "nbformat_minor": 5
}
