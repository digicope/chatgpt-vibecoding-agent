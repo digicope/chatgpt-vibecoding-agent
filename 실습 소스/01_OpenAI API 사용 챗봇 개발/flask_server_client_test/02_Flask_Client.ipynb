{
 "cells": [
  {
   "cell_type": "markdown",
   "id": "9e0a1ef0-405b-4a81-9f18-617738870d91",
   "metadata": {},
   "source": [
    "### Flask Web Server 호출 클라이언트 requests 사용 소스 코드\n",
    "#### [Flask 웹 서버 소스 실행 시킨 후 실행할것]"
   ]
  },
  {
   "cell_type": "code",
   "execution_count": 1,
   "id": "d86cfa45-7084-4c8c-a562-a3e0effb70a3",
   "metadata": {
    "scrolled": true
   },
   "outputs": [
    {
     "name": "stdout",
     "output_type": "stream",
     "text": [
      "Hello, Flask! 200\n"
     ]
    }
   ],
   "source": [
    "import requests\n",
    "\n",
    "response = requests.get(\"http://127.0.0.1:5000\")\n",
    "print(response.text,response.status_code)"
   ]
  },
  {
   "cell_type": "code",
   "execution_count": 19,
   "id": "5820b753-23ea-47d1-80ed-d030fd8e8c6d",
   "metadata": {},
   "outputs": [
    {
     "name": "stdout",
     "output_type": "stream",
     "text": [
      "{} 200\n"
     ]
    }
   ],
   "source": [
    "# (1) GET /data - 저장된 모든 데이터 조회\n",
    "\n",
    "# shell 명령\n",
    "# curl -X GET http://127.0.0.1:5000/data\n",
    "\n",
    "# windows powershell 명령 \n",
    "# Invoke-WebRequest -Uri \"http://127.0.0.1:5000/data\" -Method GET\n",
    "\n",
    "# Web Browser : http://127.0.0.1:5000/data\n",
    "\n",
    "import requests\n",
    "response = requests.get(\"http://127.0.0.1:5000/data\")\n",
    "print(response.json(),response.status_code)"
   ]
  },
  {
   "cell_type": "code",
   "execution_count": 15,
   "id": "6322db04-a9c7-4590-8412-dbf6259dca3a",
   "metadata": {},
   "outputs": [
    {
     "name": "stdout",
     "output_type": "stream",
     "text": [
      "{'message': 'Data added successfully'} 201\n"
     ]
    }
   ],
   "source": [
    " # (2) POST /data - 데이터 추가 (key, value 필요)\n",
    "\n",
    "# curl -X POST http://127.0.0.1:5000/data -H \"Content-Type: application/json\" -d '{\"key\": \"name\", \"value\": \"Jane\"}'\n",
    "# Invoke-RestMethod -Uri \"http://127.0.0.1:5000/data\" -Method POST -ContentType \"application/json\" -Body '{\"key\": \"name\", \"value\": \"Jane\"}'\n",
    "\n",
    "import requests\n",
    "data = {\"key\":\"name\", \"value\": \"Tom\"}   # dict\n",
    "response = requests.post(\"http://127.0.0.1:5000/data\",json=data)\n",
    "print(response.json(),response.status_code)"
   ]
  },
  {
   "cell_type": "code",
   "execution_count": 13,
   "id": "a3feb94b-0fee-4139-89d9-d86ac530c75d",
   "metadata": {},
   "outputs": [
    {
     "name": "stdout",
     "output_type": "stream",
     "text": [
      "{'message': 'Data updated successfully'} 200\n"
     ]
    }
   ],
   "source": [
    "# (3) PUT /data/<key> - 특정 key 값 업데이트\n",
    "\n",
    "# curl -X PUT http://127.0.0.1:5000/data/name -H \"Content-Type: application/json\" -d '{\"value\": \"John\"}'\n",
    "# Invoke-RestMethod -Uri \"http://127.0.0.1:5000/data/name\" -Method PUT -ContentType \"application/json\" -Body '{\"value\": \"John\"}'\n",
    "\n",
    "import requests\n",
    "data = {\"value\": \"John\"}   # dict\n",
    "response = requests.put(\"http://127.0.0.1:5000/data/name\",json=data)\n",
    "print(response.json(),response.status_code)"
   ]
  },
  {
   "cell_type": "code",
   "execution_count": 18,
   "id": "5c0b60da-c351-4f03-973e-7dd5fd28346d",
   "metadata": {},
   "outputs": [
    {
     "name": "stdout",
     "output_type": "stream",
     "text": [
      "{'message': 'Data deleted successfully'} 200\n"
     ]
    }
   ],
   "source": [
    "# (4) DELETE /data/<key> - 특정 key 데이터 삭제\n",
    "\n",
    "# curl -X DELETE http://127.0.0.1:5000/data/name\n",
    "# Invoke-RestMethod -Uri \"http://127.0.0.1:5000/data/name\" -Method DELETE\n",
    "\n",
    "import requests\n",
    "response = requests.delete(\"http://127.0.0.1:5000/data/name\")\n",
    "print(response.json(),response.status_code)"
   ]
  }
 ],
 "metadata": {
  "kernelspec": {
   "display_name": "Python 3 (ipykernel)",
   "language": "python",
   "name": "python3"
  },
  "language_info": {
   "codemirror_mode": {
    "name": "ipython",
    "version": 3
   },
   "file_extension": ".py",
   "mimetype": "text/x-python",
   "name": "python",
   "nbconvert_exporter": "python",
   "pygments_lexer": "ipython3",
   "version": "3.12.7"
  }
 },
 "nbformat": 4,
 "nbformat_minor": 5
}
