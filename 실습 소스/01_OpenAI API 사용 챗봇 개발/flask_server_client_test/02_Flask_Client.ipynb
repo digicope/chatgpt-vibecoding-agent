{
 "cells": [
  {
   "cell_type": "markdown",
   "id": "9e0a1ef0-405b-4a81-9f18-617738870d91",
   "metadata": {},
   "source": [
    "### Flask Web Server 호출 클라이언트 requests 사용 소스 코드\n",
    "#### [Flask 웹 서버 소스 실행 시킨 후 실행할것]"
   ]
  },
  {
   "cell_type": "code",
   "execution_count": 9,
   "id": "d86cfa45-7084-4c8c-a562-a3e0effb70a3",
   "metadata": {
    "scrolled": true
   },
   "outputs": [
    {
     "name": "stdout",
     "output_type": "stream",
     "text": [
      "Hello,Flask 200\n"
     ]
    }
   ],
   "source": [
    "import requests\n",
    "\n",
    "response = requests.get(\"http://127.0.0.1:5000\")\n",
    "print(response.text,response.status_code)"
   ]
  },
  {
   "cell_type": "code",
   "execution_count": 10,
   "id": "5820b753-23ea-47d1-80ed-d030fd8e8c6d",
   "metadata": {},
   "outputs": [
    {
     "name": "stdout",
     "output_type": "stream",
     "text": [
      "{} 200\n"
     ]
    }
   ],
   "source": [
    "# (1) GET /data - 저장된 모든 데이터 조회\n",
    "\n",
    "# shell 명령\n",
    "# curl -X GET http://127.0.0.1:5000/data\n",
    "\n",
    "# windows powershell 명령 \n",
    "# Invoke-WebRequest -Uri \"http://127.0.0.1:5000/data\" -Method GET\n",
    "\n",
    "# Web Browser : http://127.0.0.1:5000/data\n",
    "\n",
    "import requests\n",
    "response = requests.get(\"http://127.0.0.1:5000/data\")\n",
    "print(response.json(),response.status_code)"
   ]
  },
  {
   "cell_type": "code",
   "execution_count": null,
   "id": "6322db04-a9c7-4590-8412-dbf6259dca3a",
   "metadata": {},
   "outputs": [],
   "source": [
    " "
   ]
  }
 ],
 "metadata": {
  "kernelspec": {
   "display_name": "Python 3 (ipykernel)",
   "language": "python",
   "name": "python3"
  },
  "language_info": {
   "codemirror_mode": {
    "name": "ipython",
    "version": 3
   },
   "file_extension": ".py",
   "mimetype": "text/x-python",
   "name": "python",
   "nbconvert_exporter": "python",
   "pygments_lexer": "ipython3",
   "version": "3.12.7"
  }
 },
 "nbformat": 4,
 "nbformat_minor": 5
}
